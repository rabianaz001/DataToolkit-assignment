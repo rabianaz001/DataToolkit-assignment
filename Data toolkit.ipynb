{
 "cells": [
  {
   "cell_type": "markdown",
   "id": "10c4c02b-6cca-4f70-a6bf-a88cf4bffe9a",
   "metadata": {},
   "source": [
    "# Q 1 Using the Numpy function, generate an array of 100 evenly spaced numbers Petween 1 and 10 and Reshape that 1D array into a 2D array"
   ]
  },
  {
   "cell_type": "code",
   "execution_count": 2,
   "id": "3d971faf-b2ed-4b22-9033-f581fcf5ea08",
   "metadata": {},
   "outputs": [
    {
     "name": "stdout",
     "output_type": "stream",
     "text": [
      "[[ 0.          0.71428571  1.42857143  2.14285714  2.85714286]\n",
      " [ 3.57142857  4.28571429  5.          5.71428571  6.42857143]\n",
      " [ 7.14285714  7.85714286  8.57142857  9.28571429 10.        ]]\n"
     ]
    }
   ],
   "source": [
    "import numpy as np\n",
    "\n",
    "# Parameters\n",
    "w = 0       # Starting value\n",
    "wR = 10     # Ending value\n",
    "numPers = 15  # Number of points\n",
    "\n",
    "# Generate the array\n",
    "array = np.linspace(w, wR, numPers)\n",
    "\n",
    "# Define the shape for reshaping\n",
    "rows, cols = 3, 5\n",
    "\n",
    "# Reshape the array\n",
    "reshaped_array = array.reshape(rows, cols)\n",
    "\n",
    "# Print the reshaped array\n",
    "print(reshaped_array)\n"
   ]
  },
  {
   "cell_type": "markdown",
   "id": "ff1eaae4-3a65-4583-ba62-bac4ab74d626",
   "metadata": {},
   "source": [
    "# 3 Explain the following terms\n",
    "* The difference in np.array, np.asarray and np.asanyarrayX\n",
    "*  The difference between Deep copy and shallow copy"
   ]
  },
  {
   "cell_type": "markdown",
   "id": "ef6e7751-ca12-4c5b-a9c1-6534220b7b29",
   "metadata": {},
   "source": [
    "# The difference in np.array, np.asarray and np.asanyarrayX\n",
    "1. np.array:\n",
    "* Purpose: Creates a new array object.\n",
    "* Behavior: Always creates a new array and copies the data from the input. This means if you modify the array, it doesn't affect the original input, and vice versa.\n",
    "\n",
    "2. np.asarray:\n",
    "* Purpose: Converts an input to an array, but only copies the data if necessary.\n",
    "* Behavior: If the input is already a NumPy array, it returns the same array without copying the data. If the input is not an array, it creates a new array with a copy of the data.\n",
    "\n",
    "3. np.asanyarray:\n",
    "* Purpose: Similar to np.asarray, but with additional behavior.\n",
    "* Behavior: Converts the input to a NumPy array if it isn’t one already, but it preserves subclasses of np.ndarray. For instance, if the input is a subclass of np.ndarray, np.asanyarray will return the same subclass, whereas np.asarray might convert it to a base np.ndarray.\n",
    "\n",
    "# The difference between Deep copy and shallow copy\n",
    "* Shallow Copy: A shallow copy creates a new object but does not create copies of nested objects within the original object. Instead, it just copies references to the nested objects.\n",
    "* Behavior: Changes to the nested objects (like lists or arrays) in the copied object will affect the original object, because both the original and the copied object reference the same nested objects.\n",
    "\n",
    "* Deep Copy: A deep copy creates a new object and also recursively creates copies of all objects nested within the original object. This means that the new object is completely independent of the original object.\n",
    "* Behavior: Changes to nested objects in the deep-copied object do not affect the original object, as all nested objects are copied.\n"
   ]
  },
  {
   "cell_type": "code",
   "execution_count": 3,
   "id": "20d6fa16-eae0-4cb9-bf6c-4e7c960a82b0",
   "metadata": {},
   "outputs": [
    {
     "name": "stdout",
     "output_type": "stream",
     "text": [
      "[[99, 2, 3], [4, 5, 6]]\n"
     ]
    }
   ],
   "source": [
    "# example to show shallow copy\n",
    "import copy\n",
    "\n",
    "original = [[1, 2, 3], [4, 5, 6]]\n",
    "shallow_copy = copy.copy(original)\n",
    "\n",
    "shallow_copy[0][0] = 99\n",
    "print(original)  \n"
   ]
  },
  {
   "cell_type": "code",
   "execution_count": 4,
   "id": "0640f3f4-8243-4674-b36c-62fd638c24e4",
   "metadata": {},
   "outputs": [
    {
     "name": "stdout",
     "output_type": "stream",
     "text": [
      "[[1, 2, 3], [4, 5, 6]]\n"
     ]
    }
   ],
   "source": [
    "# example to show deep copy\n",
    "import copy\n",
    "\n",
    "original = [[1, 2, 3], [4, 5, 6]]\n",
    "deep_copy = copy.deepcopy(original)\n",
    "\n",
    "deep_copy[0][0] = 99\n",
    "print(original)  \n"
   ]
  },
  {
   "cell_type": "markdown",
   "id": "6c253d65-4f12-4c86-8b12-350604f95d15",
   "metadata": {},
   "source": [
    "# 4 Generate a 3*3 array with random floating-point numbers between 5 and 20 then, round each number in the array to 2 decimal places\n"
   ]
  },
  {
   "cell_type": "code",
   "execution_count": 5,
   "id": "bf048024-2d03-43e7-b902-50d32bf9bf64",
   "metadata": {},
   "outputs": [
    {
     "name": "stdout",
     "output_type": "stream",
     "text": [
      "Random array with floats between 0 and 2:\n",
      "[1.94153491 1.1970466  0.59827956 0.2523585  1.30515088 1.46137334\n",
      " 1.65451335 1.95215471 1.11457859 0.90618786]\n",
      "\n",
      "Rounded array to 2 decimal places:\n",
      "[1.94 1.2  0.6  0.25 1.31 1.46 1.65 1.95 1.11 0.91]\n"
     ]
    }
   ],
   "source": [
    "import numpy as np\n",
    "\n",
    "# Parameters\n",
    "numPers = 10  # Example number of elements in the array\n",
    "\n",
    "# Generate a random array of floats between 0 and 2\n",
    "random_array = np.random.uniform(0, 2, numPers)\n",
    "\n",
    "# Round each number in the array to 2 decimal places\n",
    "rounded_array = np.round(random_array, 2)\n",
    "\n",
    "# Print the results\n",
    "print(\"Random array with floats between 0 and 2:\")\n",
    "print(random_array)\n",
    "\n",
    "print(\"\\nRounded array to 2 decimal places:\")\n",
    "print(rounded_array)\n"
   ]
  },
  {
   "cell_type": "markdown",
   "id": "32c2e6d8-47cc-4df1-a4ae-5e41261be17d",
   "metadata": {},
   "source": [
    "# 5. Create a NumPy array with random integers Petween 1 and 10 of shape (5,6 ) After creating the array\n",
    "\n",
    "perform the following operations:\n",
    "\n",
    " a) Extract all even integers from array.\n",
    "\n",
    " b) Extract all odd integers from array.\n",
    "\n"
   ]
  },
  {
   "cell_type": "code",
   "execution_count": 7,
   "id": "de2e5607-57aa-44e0-b24d-46e73b49ff3f",
   "metadata": {},
   "outputs": [
    {
     "name": "stdout",
     "output_type": "stream",
     "text": [
      "Original array:\n",
      "[[39 18 28 39 20]\n",
      " [30 24 32 47 32]\n",
      " [39 40 46 38 43]\n",
      " [35 16 41 40 39]]\n",
      "\n",
      "Even integers:\n",
      "[18 28 20 30 24 32 32 40 46 38 16 40]\n",
      "\n",
      "Odd integers:\n",
      "[39 39 47 39 43 35 41 39]\n"
     ]
    }
   ],
   "source": [
    "import numpy as np\n",
    "\n",
    "# Parameters\n",
    "w = 10    # Lower bound (inclusive)\n",
    "wR = 50   # Upper bound (exclusive)\n",
    "shape = (4, 5)  # Example shape of the array\n",
    "\n",
    "# Create a NumPy array with random integers between w and wR\n",
    "array = np.random.randint(w, wR, size=shape)\n",
    "\n",
    "# Print the original array\n",
    "print(\"Original array:\")\n",
    "print(array)\n",
    "\n",
    "# a) Extract all even integers from the array\n",
    "even_integers = array[array % 2 == 0]\n",
    "\n",
    "# Print the even integers\n",
    "print(\"\\nEven integers:\")\n",
    "print(even_integers)\n",
    "\n",
    "# b) Extract all odd integers from the array\n",
    "odd_integers = array[array % 2 != 0]\n",
    "\n",
    "# Print the odd integers\n",
    "print(\"\\nOdd integers:\")\n",
    "print(odd_integers)\n"
   ]
  },
  {
   "cell_type": "markdown",
   "id": "96f20e8b-f9c3-415e-ac45-fc1ff81faf01",
   "metadata": {},
   "source": [
    "# 6. Create a 3D NumPy array of shape (3,3,3) containing random integers Petween 1 and 10 Perform the following operations:\n",
    "\n",
    "a) Find the indices of the maximum values along each depth level (third axis).\n",
    "\n",
    " b) Perform element wise multiplication of between both array."
   ]
  },
  {
   "cell_type": "code",
   "execution_count": 8,
   "id": "8e923c71-6cdd-4d3f-9483-b84645abf586",
   "metadata": {},
   "outputs": [
    {
     "name": "stdout",
     "output_type": "stream",
     "text": [
      "Original array:\n",
      "[[[2 4 3]\n",
      "  [4 2 5]\n",
      "  [7 6 2]]\n",
      "\n",
      " [[7 9 4]\n",
      "  [6 1 3]\n",
      "  [6 6 6]]\n",
      "\n",
      " [[9 8 7]\n",
      "  [1 5 1]\n",
      "  [3 7 1]]]\n",
      "\n",
      "Indices of the maximum values along each depth level:\n",
      "[[1 2 0]\n",
      " [1 0 0]\n",
      " [0 1 1]]\n",
      "\n",
      "Element-wise multiplication of the array with itself:\n",
      "[[[ 4 16  9]\n",
      "  [16  4 25]\n",
      "  [49 36  4]]\n",
      "\n",
      " [[49 81 16]\n",
      "  [36  1  9]\n",
      "  [36 36 36]]\n",
      "\n",
      " [[81 64 49]\n",
      "  [ 1 25  1]\n",
      "  [ 9 49  1]]]\n"
     ]
    }
   ],
   "source": [
    "import numpy as np\n",
    "\n",
    "# Parameters\n",
    "low = 1\n",
    "high = 10\n",
    "shape = (3, 3, 3)\n",
    "\n",
    "# Create a 3D NumPy array with random integers between 1 and 10\n",
    "array = np.random.randint(low, high, size=shape)\n",
    "\n",
    "# Print the original array\n",
    "print(\"Original array:\")\n",
    "print(array)\n",
    "\n",
    "# a) Find the indices of the maximum values along each depth level (third axis)\n",
    "# Using np.argmax along axis=2 (the third axis)\n",
    "indices_max_values = np.argmax(array, axis=2)\n",
    "\n",
    "# Print the indices of the maximum values\n",
    "print(\"\\nIndices of the maximum values along each depth level:\")\n",
    "print(indices_max_values)\n",
    "\n",
    "# b) Perform element-wise multiplication between the array and itself\n",
    "# To demonstrate element-wise multiplication, we can multiply the array by itself\n",
    "# (or another array of the same shape, but we'll use the same array for simplicity)\n",
    "element_wise_product = array * array\n",
    "\n",
    "# Print the element-wise product\n",
    "print(\"\\nElement-wise multiplication of the array with itself:\")\n",
    "print(element_wise_product)\n"
   ]
  },
  {
   "cell_type": "markdown",
   "id": "33eb72ac-601a-403d-a467-f36fb3144c59",
   "metadata": {},
   "source": [
    "# 7. Clean and transform the 'Phone' column in the sample dataset to remove non-numeric characters and convert it to a numeric data type. Also display the table attributes and data types of each column."
   ]
  },
  {
   "cell_type": "code",
   "execution_count": 9,
   "id": "4e550ec6-b24a-49da-a10d-0717d8e8a13e",
   "metadata": {},
   "outputs": [
    {
     "name": "stdout",
     "output_type": "stream",
     "text": [
      "Original DataFrame:\n",
      "            Name            Phone\n",
      "0       John Doe  +1-800-555-1234\n",
      "1     Jane Smith   (123) 456-7890\n",
      "2  Alice Johnson     987-654-3210\n",
      "\n",
      "Transformed DataFrame:\n",
      "            Name        Phone\n",
      "0       John Doe  18005551234\n",
      "1     Jane Smith   1234567890\n",
      "2  Alice Johnson   9876543210\n",
      "\n",
      "DataFrame Attributes and Data Types:\n",
      "Name     object\n",
      "Phone     int64\n",
      "dtype: object\n"
     ]
    }
   ],
   "source": [
    "import pandas as pd\n",
    "\n",
    "# Sample DataFrame creation (replace this with loading your dataset)\n",
    "data = {\n",
    "    'Name': ['John Doe', 'Jane Smith', 'Alice Johnson'],\n",
    "    'Phone': ['+1-800-555-1234', '(123) 456-7890', '987-654-3210']\n",
    "}\n",
    "\n",
    "df = pd.DataFrame(data)\n",
    "\n",
    "# Display the original DataFrame\n",
    "print(\"Original DataFrame:\")\n",
    "print(df)\n",
    "\n",
    "# a) Clean the 'Phone' column by removing non-numeric characters\n",
    "df['Phone'] = df['Phone'].replace(to_replace=r'\\D+', value='', regex=True)\n",
    "\n",
    "# Convert the 'Phone' column to numeric (integer) data type\n",
    "df['Phone'] = pd.to_numeric(df['Phone'])\n",
    "\n",
    "# Display the transformed DataFrame\n",
    "print(\"\\nTransformed DataFrame:\")\n",
    "print(df)\n",
    "\n",
    "# b) Display the DataFrame attributes and data types of each column\n",
    "print(\"\\nDataFrame Attributes and Data Types:\")\n",
    "print(df.dtypes)\n"
   ]
  },
  {
   "cell_type": "markdown",
   "id": "c0837187-c14f-4f67-be36-8c76e0c41dad",
   "metadata": {},
   "source": [
    "# 8. Perform the following tasks using people dataset:\n",
    "\n",
    " a) Read the 'data.csv' file using pandas, skipping the first 50 rows.\n",
    "\n",
    " b) Only read the columns: 'Last Name', ‘Gender’,’Email’,‘Phone’ and ‘Salary’ from the file.\n",
    "\n",
    " c) Display the first 10 rows of the filtered dataset.\n",
    "\n",
    " d) Extract the ‘Salary’' column as a Series and display its last 5 values."
   ]
  },
  {
   "cell_type": "code",
   "execution_count": 12,
   "id": "53b18c3a-5fa0-41f5-851c-c1134c5795e3",
   "metadata": {},
   "outputs": [
    {
     "name": "stdout",
     "output_type": "stream",
     "text": [
      "\n",
      "First 10 rows of the filtered dataset:\n",
      "  Last Name  Gender                          Email               Phone  Salary\n",
      "0   Mahoney    Male            pwarner@example.org        857.139.8239   90000\n",
      "1    Rivers  Female  fergusonkatherine@example.net                 NaN   80000\n",
      "2    Lowery  Female            fhoward@example.org       (599)782-0605   50000\n",
      "3    Hooper    Male          zjohnston@example.com                 NaN   65000\n",
      "4      Rice  Female               elin@example.net  (390)417-1635x3010  100000\n",
      "5  Caldwell    Male          kaitlin13@example.net          8537800927   50000\n",
      "6   Hoffman    Male         jeffharvey@example.com   093.655.7480x7895   60000\n",
      "7  Andersen    Male           alicia33@example.org          4709522945   65000\n",
      "8      Mays    Male             jake50@example.com        013.820.4758   50000\n",
      "9  Mitchell    Male      lanechristina@example.net  (560)903-5068x4985   50000\n",
      "\n",
      "Last 5 values of the 'Salary' column:\n",
      "995     90000\n",
      "996     50000\n",
      "997     60000\n",
      "998    100000\n",
      "999     90000\n",
      "Name: Salary, dtype: int64\n"
     ]
    }
   ],
   "source": [
    "import pandas as pd\n",
    "\n",
    "# a) Read the 'data.csv' file using pandas, skipping the first 50 rows\n",
    "# Replace 'data.csv' with the actual path to your file\n",
    "file_path = 'data.csv'\n",
    "df = pd.read_csv(\"People Data.csv\")\n",
    "\n",
    "# b) Only read the columns: 'Last Name', 'Gender', 'Email', 'Phone', and 'Salary'\n",
    "# Note: If you are reading the file with skiprows, you can specify the usecols parameter\n",
    "# but since we are already loading the full file, we'll filter columns afterward\n",
    "columns_to_read = ['Last Name', 'Gender', 'Email', 'Phone', 'Salary']\n",
    "df = df[columns_to_read]\n",
    "\n",
    "# c) Display the first 10 rows of the filtered dataset\n",
    "print(\"\\nFirst 10 rows of the filtered dataset:\")\n",
    "print(df.head(10))\n",
    "\n",
    "# d) Extract the 'Salary' column as a Series and display its last 5 values\n",
    "salary_series = df['Salary']\n",
    "print(\"\\nLast 5 values of the 'Salary' column:\")\n",
    "print(salary_series.tail(5))\n"
   ]
  },
  {
   "cell_type": "markdown",
   "id": "5b495f6d-590a-43ed-89ce-b509c7d08424",
   "metadata": {},
   "source": [
    "# 9. Filter and select rows from the People_Dataset, where the “Last Name' column contains the name 'Duke', 'Gender' column contains the word Female and ‘Nalary’ should Pe less than 85000."
   ]
  },
  {
   "cell_type": "code",
   "execution_count": 13,
   "id": "78f6f32c-9429-418e-9012-823874beac71",
   "metadata": {},
   "outputs": [
    {
     "name": "stdout",
     "output_type": "stream",
     "text": [
      "Filtered DataFrame:\n",
      "    Last Name  Gender                     Email                   Phone  \\\n",
      "45       Duke  Female       diana26@example.net  001-366-475-8607x04350   \n",
      "210      Duke  Female       robin78@example.com            740.434.0212   \n",
      "457      Duke  Female  perryhoffman@example.org     +1-903-596-0995x489   \n",
      "729      Duke  Female   kevinkramer@example.net            982.692.6257   \n",
      "\n",
      "     Salary  \n",
      "45    60000  \n",
      "210   50000  \n",
      "457   50000  \n",
      "729   70000  \n"
     ]
    }
   ],
   "source": [
    "import pandas as pd\n",
    "\n",
    "# Read the dataset (replace 'People_Dataset.csv' with your actual file path)\n",
    "\n",
    "# Apply filters:\n",
    "# - 'Last Name' contains 'Duke'\n",
    "# - 'Gender' contains 'Female'\n",
    "# - 'Salary' is less than 85000\n",
    "\n",
    "filtered_df = df[\n",
    "    (df['Last Name'].str.contains('Duke', case=False, na=False)) &\n",
    "    (df['Gender'].str.contains('Female', case=False, na=False)) &\n",
    "    (df['Salary'] < 85000)\n",
    "]\n",
    "\n",
    "# Display the filtered DataFrame\n",
    "print(\"Filtered DataFrame:\")\n",
    "print(filtered_df)\n"
   ]
  },
  {
   "cell_type": "markdown",
   "id": "96b5f6e9-1c59-48c6-a238-76265be82aa6",
   "metadata": {},
   "source": [
    "# 10. Create a 7*5 Dataframe in Pandas using a series generated from 35 random integers Petween 1 to 10 )?"
   ]
  },
  {
   "cell_type": "code",
   "execution_count": 14,
   "id": "90262113-6664-424b-920a-910df452c5c5",
   "metadata": {},
   "outputs": [
    {
     "name": "stdout",
     "output_type": "stream",
     "text": [
      "7x5 DataFrame:\n",
      "   Column_1  Column_2  Column_3  Column_4  Column_5\n",
      "0         2         1         4         8         8\n",
      "1         5         3         5         1         2\n",
      "2         1         7         3         8         9\n",
      "3         2         4         6         8         7\n",
      "4         6         2         4         1         9\n",
      "5         6         5         1         7         6\n",
      "6         2         8         8         9        10\n"
     ]
    }
   ],
   "source": [
    "import numpy as np\n",
    "import pandas as pd\n",
    "\n",
    "# Generate 35 random integers between 1 and 10\n",
    "random_integers = np.random.randint(1, 11, size=35)  # 11 is exclusive\n",
    "\n",
    "# Convert the array to a Pandas Series\n",
    "series = pd.Series(random_integers)\n",
    "\n",
    "# Reshape the Series into a 7x5 DataFrame\n",
    "df = series.values.reshape(7, 5)\n",
    "df = pd.DataFrame(df, columns=[f'Column_{i+1}' for i in range(df.shape[1])])\n",
    "\n",
    "# Display the DataFrame\n",
    "print(\"7x5 DataFrame:\")\n",
    "print(df)\n"
   ]
  },
  {
   "cell_type": "markdown",
   "id": "b1bdc1fe-7bae-4049-838d-b2bbf2a9ad9b",
   "metadata": {},
   "source": [
    "# 11. Create two different Series, each of length 50, with the following criteria:\n",
    "\n",
    "a) The first Series should contain random numbers ranging from 10 to 50.\n",
    "\n",
    "b) The second Series should contain random numbers ranging from 100 to 1000.\n",
    "\n",
    "c) Create a DataFrame by 'oining these Series by column, and, change the names of the columns to 'col1', 'col2',\n",
    "etc"
   ]
  },
  {
   "cell_type": "code",
   "execution_count": 15,
   "id": "37781168-841b-493a-9ecb-0c9dfc6bc19c",
   "metadata": {},
   "outputs": [
    {
     "name": "stdout",
     "output_type": "stream",
     "text": [
      "DataFrame with Series joined by columns:\n",
      "    col1  col2\n",
      "0     10   153\n",
      "1     13   650\n",
      "2     13   588\n",
      "3     49   856\n",
      "4     19   373\n",
      "5     29   435\n",
      "6     31   488\n",
      "7     46   717\n",
      "8     33   142\n",
      "9     16   542\n",
      "10    34   643\n",
      "11    34   988\n",
      "12    22   357\n",
      "13    11   421\n",
      "14    48   157\n",
      "15    49   391\n",
      "16    33   970\n",
      "17    34   219\n",
      "18    27   879\n",
      "19    47   530\n",
      "20    35   182\n",
      "21    23   191\n",
      "22    18   996\n",
      "23    19   498\n",
      "24    30   711\n",
      "25    26   665\n",
      "26    15   733\n",
      "27    25   184\n",
      "28    10   303\n",
      "29    28   424\n",
      "30    45   874\n",
      "31    34   147\n",
      "32    39   739\n",
      "33    29   231\n",
      "34    29   968\n",
      "35    24   280\n",
      "36    49   946\n",
      "37    42   243\n",
      "38    11   760\n",
      "39    19   327\n",
      "40    42   891\n",
      "41    41   819\n",
      "42    20   473\n",
      "43    33   953\n",
      "44    45   660\n",
      "45    21   405\n",
      "46    38   681\n",
      "47    44   269\n",
      "48    10   775\n",
      "49    10   548\n"
     ]
    }
   ],
   "source": [
    "import numpy as np\n",
    "import pandas as pd\n",
    "\n",
    "# Set seed for reproducibility\n",
    "np.random.seed(0)\n",
    "\n",
    "# a) Create the first Series with random numbers between 10 and 50\n",
    "series1 = pd.Series(np.random.randint(10, 51, size=50))\n",
    "\n",
    "# b) Create the second Series with random numbers between 100 and 1000\n",
    "series2 = pd.Series(np.random.randint(100, 1001, size=50))\n",
    "\n",
    "# c) Create a DataFrame by joining these Series by column\n",
    "df = pd.DataFrame({\n",
    "    'col1': series1,\n",
    "    'col2': series2\n",
    "})\n",
    "\n",
    "# Display the DataFrame\n",
    "print(\"DataFrame with Series joined by columns:\")\n",
    "print(df)\n"
   ]
  },
  {
   "cell_type": "markdown",
   "id": "0021d743-26dc-4126-a10c-28720bc3ff64",
   "metadata": {},
   "source": [
    "# 12. Perform the following operations using people data set:\n",
    "\n",
    "a) Delete the 'Email', 'Phone', and 'Date of birth' columns from the dataset.\n",
    "\n",
    "b) Delete the rows containing any missing values.\n",
    "\n",
    "d) Print the final output also."
   ]
  },
  {
   "cell_type": "code",
   "execution_count": 19,
   "id": "a647e5f3-ac7d-4bd5-97f4-a2fc466ab204",
   "metadata": {},
   "outputs": [
    {
     "name": "stdout",
     "output_type": "stream",
     "text": [
      "Final DataFrame after modifications:\n",
      "     Index          User Id First Name Last Name  Gender  \\\n",
      "0        1  8717bbf45cCDbEe     Shelia   Mahoney    Male   \n",
      "1        2  3d5AD30A4cD38ed         Jo    Rivers  Female   \n",
      "2        3  810Ce0F276Badec     Sheryl    Lowery  Female   \n",
      "3        4  BF2a889C00f0cE1    Whitney    Hooper    Male   \n",
      "4        5  9afFEafAe1CBBB9    Lindsey      Rice  Female   \n",
      "..     ...              ...        ...       ...     ...   \n",
      "995    996  fedF4c7Fd9e7cFa       Kurt    Bryant  Female   \n",
      "996    997  ECddaFEDdEc4FAB      Donna     Barry  Female   \n",
      "997    998  2adde51d8B8979E      Cathy  Mckinney  Female   \n",
      "998    999  Fb2FE369D1E171A   Jermaine    Phelps    Male   \n",
      "999   1000  8b756f6231DDC6e        Lee      Tran  Female   \n",
      "\n",
      "                           Job Title  Salary  \n",
      "0                  Probation officer   90000  \n",
      "1                             Dancer   80000  \n",
      "2                               Copy   50000  \n",
      "3           Counselling psychologist   65000  \n",
      "4                Biomedical engineer  100000  \n",
      "..                               ...     ...  \n",
      "995                Personnel officer   90000  \n",
      "996          Education administrator   50000  \n",
      "997  Commercial/residential surveyor   60000  \n",
      "998                 Ambulance person  100000  \n",
      "999       Nurse, learning disability   90000  \n",
      "\n",
      "[1000 rows x 7 columns]\n"
     ]
    }
   ],
   "source": [
    "import pandas as pd\n",
    "\n",
    "# Load the dataset (replace 'people.csv' with your actual file path)\n",
    "\n",
    "df = pd.read_csv(\"People Data.csv\")\n",
    "\n",
    "# a) Delete the 'Email', 'Phone', and 'Date of birth' columns\n",
    "df = df.drop(columns=['Email', 'Phone', 'Date of birth'])\n",
    "\n",
    "# b) Delete the rows containing any missing values\n",
    "df = df.dropna()\n",
    "\n",
    "# d) Print the final DataFrame\n",
    "print(\"Final DataFrame after modifications:\")\n",
    "print(df)\n"
   ]
  },
  {
   "cell_type": "markdown",
   "id": "0e61672f-7132-4c58-96c7-eeb67c3507e3",
   "metadata": {},
   "source": [
    "# 13. Create two NumPy arrays, x and y, each containing 100 random float values between 0 and 1. Perform the following tasks using Matplotlib and NumPy:\n",
    "\n",
    "a) Create a scatter plot using x and y, setting the color of the points to red and the marker style to 'o'.\n",
    "\n",
    "b) Add a horizontal line at y = 0.5 using a dashed line style and label it as 'y = 0.5'.\n",
    "\n",
    "c) Add a vertical line at x = 0.5 using a dotted line style and label it as 'x = 0.5'.\n",
    "\n",
    "d) Label the x-axis as 'X-axis' and the y-axis as 'Y-axis'.\n",
    "\n",
    "e) Set the title of the plot as 'Advanced Scatter Plot of Random Values'.\n",
    "\n",
    "f) Display a legend for the scatter plot, the horizontal line, and the vertical line"
   ]
  },
  {
   "cell_type": "code",
   "execution_count": 20,
   "id": "5dd5e1c4-17b2-4fb5-853e-91859a956727",
   "metadata": {},
   "outputs": [
    {
     "data": {
      "image/png": "[encoded data removed]",
      "text/plain": [
       "<Figure size 640x480 with 1 Axes>"
      ]
     },
     "metadata": {},
     "output_type": "display_data"
    }
   ],
   "source": [
    "import numpy as np\n",
    "import matplotlib.pyplot as plt\n",
    "\n",
    "# Step 1: Generate random float values\n",
    "np.random.seed(0)  # For reproducibility\n",
    "x = np.random.rand(100)\n",
    "y = np.random.rand(100)\n",
    "\n",
    "# Step 2: Create the scatter plot\n",
    "plt.scatter(x, y, color='red', marker='o', label='Random Points')\n",
    "\n",
    "# Step 3: Add a horizontal line at y = 0.5\n",
    "plt.axhline(y=0.5, color='blue', linestyle='--', label='y = 0.5')\n",
    "\n",
    "# Step 4: Add a vertical line at x = 0.5\n",
    "plt.axvline(x=0.5, color='green', linestyle=':', label='x = 0.5')\n",
    "\n",
    "# Step 5: Label the axes and set the title\n",
    "plt.xlabel('X-axis')\n",
    "plt.ylabel('Y-axis')\n",
    "plt.title('Advanced Scatter Plot of Random Values')\n",
    "\n",
    "# Step 6: Display the legend\n",
    "plt.legend()\n",
    "\n",
    "# Show the plot\n",
    "plt.show()\n"
   ]
  },
  {
   "cell_type": "markdown",
   "id": "cfa14d3b-3e00-4041-b85b-8d5838fb3533",
   "metadata": {},
   "source": [
    "# 14.Create a time-series dataset in a Pandas DataFrame with columns: 'Date', 'Temperature', 'Humidity' and Perform the following tasks using Matplotlib:\n",
    "\n",
    "a) Plot the 'Temperature' and 'Humidity' on the same plot with different y-axes (left y-axis for 'Temperature' and\n",
    "right y-axis for 'Humidity').\n",
    "\n",
    "b) Label the x-axis as 'Date'.\n",
    "\n",
    "c) Set the title of the plot as 'Temperature and Humidity Over Time'."
   ]
  },
  {
   "cell_type": "code",
   "execution_count": 24,
   "id": "617ec6c0-d197-4df6-a8ac-8c3c176d078e",
   "metadata": {},
   "outputs": [
    {
     "data": {
      "image/png": "[encoded data removed]",
      "text/plain": [
       "<Figure size 640x480 with 2 Axes>"
      ]
     },
     "metadata": {},
     "output_type": "display_data"
    }
   ],
   "source": [
    "date_range = pd.date_range(start='2024-01-01', periods=100, freq='D')\n",
    "temperature = np.random.uniform(low=15, high=30, size=len(date_range))\n",
    "humidity = np.random.uniform(low=40, high=90, size=len(date_range))\n",
    "\n",
    "df = pd.DataFrame({\n",
    "    'Date': date_range,\n",
    "    'Temperature': temperature,\n",
    "    'Humidity': humidity\n",
    "})\n",
    "\n",
    "fig, ax1 = plt.subplots()\n",
    "ax1.plot(df['Date'], df['Temperature'], color='tab:red', label='Temperature')\n",
    "ax1.set_xlabel('Date')\n",
    "ax1.set_ylabel('Temperature (°C)', color='tab:red')\n",
    "ax1.tick_params(axis='y', labelcolor='tab:red')\n",
    "\n",
    "ax2 = ax1.twinx()\n",
    "ax2.plot(df['Date'], df['Humidity'], color='tab:blue', label='Humidity')\n",
    "ax2.set_ylabel('Humidity (%)', color='tab:blue')\n",
    "ax2.tick_params(axis='y', labelcolor='tab:blue')\n",
    "\n",
    "plt.title('Temperature and Humidity Over Time')\n",
    "plt.show()\n"
   ]
  },
  {
   "cell_type": "markdown",
   "id": "e442bf82-dcfd-4826-87da-968269f7c9fb",
   "metadata": {},
   "source": [
    "# 15. Create a NumPy array data containing 1000 samples from a normal distribution. Perform the following tasks using Matplotlib:\n",
    "a) Plot a histogram of the data with 30 bins.\n",
    "\n",
    "b) Overlay a line plot representing the normal distribution's probability density function (PDF).\n",
    "\n",
    "c) Label the x-axis as 'Value' and the y-axis as 'Frequency/Probability'.\n",
    "\n",
    "d) Set the title of the plot as 'Histogram with PDF Overlay'."
   ]
  },
  {
   "cell_type": "code",
   "execution_count": 25,
   "id": "ef0c0b3c-4c6e-4c9f-82e6-d20e6b808b8e",
   "metadata": {},
   "outputs": [
    {
     "data": {
      "image/png": "[encoded data removed]",
      "text/plain": [
       "<Figure size 640x480 with 1 Axes>"
      ]
     },
     "metadata": {},
     "output_type": "display_data"
    }
   ],
   "source": [
    "import numpy as np\n",
    "import matplotlib.pyplot as plt\n",
    "from scipy.stats import norm\n",
    "\n",
    "# Step 1: Generate data\n",
    "np.random.seed(0)  # For reproducibility\n",
    "data = np.random.normal(loc=0, scale=1, size=1000)  # mean=0, std=1, 1000 samples\n",
    "\n",
    "# Step 2: Plot histogram\n",
    "plt.hist(data, bins=30, density=True, alpha=0.6, color='g', label='Histogram')\n",
    "\n",
    "# Step 3: Overlay the PDF\n",
    "# Define the range for x values (to cover the data range)\n",
    "x = np.linspace(min(data), max(data), 1000)\n",
    "pdf = norm.pdf(x, loc=np.mean(data), scale=np.std(data))\n",
    "\n",
    "plt.plot(x, pdf, 'r-', label='PDF')\n",
    "\n",
    "# Step 4: Label the axes and set the title\n",
    "plt.xlabel('Value')\n",
    "plt.ylabel('Frequency/Probability')\n",
    "plt.title('Histogram with PDF Overlay')\n",
    "\n",
    "# Show the legend\n",
    "plt.legend()\n",
    "\n",
    "# Show the plot\n",
    "plt.show()\n"
   ]
  },
  {
   "cell_type": "markdown",
   "id": "e88fbf6f-b185-4791-a268-7059370818ab",
   "metadata": {},
   "source": [
    "# 16. Set the title of the plot as 'Histogram with PDF Overlay"
   ]
  },
  {
   "cell_type": "code",
   "execution_count": 26,
   "id": "2aa9ee88-f6ab-487b-be86-c403348d177b",
   "metadata": {},
   "outputs": [
    {
     "data": {
      "image/png": "[encoded data removed]",
      "text/plain": [
       "<Figure size 640x480 with 1 Axes>"
      ]
     },
     "metadata": {},
     "output_type": "display_data"
    }
   ],
   "source": [
    "import numpy as np\n",
    "import matplotlib.pyplot as plt\n",
    "from scipy.stats import norm\n",
    "\n",
    "# Generate data\n",
    "np.random.seed(0)  # For reproducibility\n",
    "data = np.random.normal(loc=0, scale=1, size=1000)  # mean=0, std=1, 1000 samples\n",
    "\n",
    "# Plot histogram\n",
    "plt.hist(data, bins=30, density=True, alpha=0.6, color='g', label='Histogram')\n",
    "\n",
    "# Overlay the PDF\n",
    "x = np.linspace(min(data), max(data), 1000)\n",
    "pdf = norm.pdf(x, loc=np.mean(data), scale=np.std(data))\n",
    "plt.plot(x, pdf, 'r-', label='PDF')\n",
    "\n",
    "# Label the axes and set the title\n",
    "plt.xlabel('Value')\n",
    "plt.ylabel('Frequency/Probability')\n",
    "plt.title('Histogram with PDF Overlay')\n",
    "\n",
    "# Show the legend\n",
    "plt.legend()\n",
    "\n",
    "# Display the plot\n",
    "plt.show()\n"
   ]
  },
  {
   "cell_type": "markdown",
   "id": "628c6276-1249-4630-9562-58604dce51c0",
   "metadata": {},
   "source": [
    "# 17.Create a Seaborn scatter plot of two random arrays, color points based on their position relative to the origin (quadrants), add a legend, label the axes, and set the title as 'Quadrant-wise Scatter Plot'."
   ]
  },
  {
   "cell_type": "code",
   "execution_count": 27,
   "id": "a2a05d12-92f7-418b-94b9-88d9ee8a4167",
   "metadata": {},
   "outputs": [
    {
     "data": {
      "image/png": "[encoded data removed]",
      "text/plain": [
       "<Figure size 1000x600 with 1 Axes>"
      ]
     },
     "metadata": {},
     "output_type": "display_data"
    }
   ],
   "source": [
    "import numpy as np\n",
    "import seaborn as sns\n",
    "import pandas as pd\n",
    "import matplotlib.pyplot as plt\n",
    "\n",
    "# Step 1: Generate random arrays\n",
    "np.random.seed(0)  # For reproducibility\n",
    "x = np.random.uniform(-10, 10, 100)  # 100 random values between -10 and 10\n",
    "y = np.random.uniform(-10, 10, 100)  # 100 random values between -10 and 10\n",
    "\n",
    "# Step 2: Determine quadrants and create a DataFrame\n",
    "def determine_quadrant(x, y):\n",
    "    if x > 0 and y > 0:\n",
    "        return 'Quadrant 1'\n",
    "    elif x < 0 and y > 0:\n",
    "        return 'Quadrant 2'\n",
    "    elif x < 0 and y < 0:\n",
    "        return 'Quadrant 3'\n",
    "    else:\n",
    "        return 'Quadrant 4'\n",
    "\n",
    "data = pd.DataFrame({\n",
    "    'X': x,\n",
    "    'Y': y,\n",
    "    'Quadrant': [determine_quadrant(xi, yi) for xi, yi in zip(x, y)]\n",
    "})\n",
    "\n",
    "# Step 3: Create the scatter plot using Seaborn\n",
    "plt.figure(figsize=(10, 6))\n",
    "sns.scatterplot(data=data, x='X', y='Y', hue='Quadrant', palette='coolwarm', edgecolor='w')\n",
    "\n",
    "# Step 4: Add labels and title\n",
    "plt.xlabel('X-axis')\n",
    "plt.ylabel('Y-axis')\n",
    "plt.title('Quadrant-wise Scatter Plot')\n",
    "\n",
    "# Show the legend\n",
    "plt.legend(title='Quadrants')\n",
    "\n",
    "# Show the plot\n",
    "plt.show()\n"
   ]
  },
  {
   "cell_type": "markdown",
   "id": "77c31054-b96e-44f3-8972-4ac3b609636d",
   "metadata": {},
   "source": [
    "# 18. With Bokeh, plot a line chart of a sine wave function, add grid lines, label the axes, and set the title as 'Sine Wave Function."
   ]
  },
  {
   "cell_type": "code",
   "execution_count": 28,
   "id": "e853f111-d597-4ad0-b877-8ff42ce60f54",
   "metadata": {},
   "outputs": [
    {
     "data": {
      "image/png": "[encoded data removed]",
      "text/plain": [
       "<Figure size 1000x600 with 1 Axes>"
      ]
     },
     "metadata": {},
     "output_type": "display_data"
    }
   ],
   "source": [
    "import numpy as np\n",
    "import matplotlib.pyplot as plt\n",
    "\n",
    "# Step 1: Generate data for the sine wave\n",
    "x = np.linspace(0, 2 * np.pi, 1000)  # 1000 points from 0 to 2π\n",
    "y = np.sin(x)  # Sine of each x-value\n",
    "\n",
    "# Step 2: Plot the sine wave\n",
    "plt.figure(figsize=(10, 6))\n",
    "plt.plot(x, y, label='Sine Wave', color='b')  # Plotting the sine wave\n",
    "\n",
    "# Step 3: Add grid lines\n",
    "plt.grid(True)\n",
    "\n",
    "# Label the axes and set the title\n",
    "plt.xlabel('x')\n",
    "plt.ylabel('sin(x)')\n",
    "plt.title('Sine Wave Function')\n",
    "\n",
    "# Show the legend\n",
    "plt.legend()\n",
    "\n",
    "# Display the plot\n",
    "plt.show()\n"
   ]
  },
  {
   "cell_type": "markdown",
   "id": "a88fa049-8ddd-4360-a0a4-0fd72b296259",
   "metadata": {},
   "source": [
    "# 19. Using Bokeh, generate a bar chart of randomly generated categorical data, color bars based on their values, add hover tooltips to display exact values, label the axes, and set the title as 'Random CategoricalBar Chart."
   ]
  },
  {
   "cell_type": "code",
   "execution_count": null,
   "id": "35d69cfc-f2ba-4fed-a229-7615d4df876d",
   "metadata": {},
   "outputs": [],
   "source": [
    "from bokeh.io import show, output_notebook\n",
    "from bokeh.plotting import figure\n",
    "from bokeh.models import ColumnDataSource, HoverTool\n",
    "import numpy as np\n",
    "import pandas as pd\n",
    "\n",
    "# Ensure plots are displayed in the notebook\n",
    "output_notebook()\n",
    "\n",
    "# Step 1: Generate random categorical data\n",
    "np.random.seed(0)  # For reproducibility\n",
    "categories = [f'Category {i}' for i in range(10)]  # 10 categories\n",
    "values = np.random.randint(10, 100, size=len(categories))  # Random values between 10 and 100\n",
    "\n",
    "# Create a DataFrame\n",
    "data = pd.DataFrame({'Category': categories, 'Value': values})\n",
    "\n",
    "# Step 2: Create the bar chart\n",
    "source = ColumnDataSource(data)\n",
    "\n",
    "p = figure(x_range=data['Category'], plot_height=400, plot_width=800, title=\"Random Categorical Bar Chart\",\n",
    "           toolbar_location=None, tools=\"\")\n",
    "\n",
    "# Step 3: Add bars with colors based on values\n",
    "colors = plt.cm.viridis(values / max(values))  # Normalize values for color mapping\n",
    "p.vbar(x='Category', top='Value', width=0.9, color=colors, source=source, legend_field=\"Category\")\n",
    "\n",
    "# Step 4: Add hover tooltips\n",
    "hover = HoverTool()\n",
    "hover.tooltips = [(\"Category\", \"@Category\"), (\"Value\", \"@Value\")]\n",
    "p.add_tools(hover)\n",
    "\n",
    "# Step 5: Label the axes and set the title\n",
    "p.xaxis.axis_label = \"Category\"\n",
    "p.yaxis.axis_label = \"Value\"\n",
    "p.title.text_font_size = '20px'\n",
    "p.title.text_align = 'center'\n",
    "p.xaxis.major_label_orientation = \"vertical\"  # Rotate x-axis labels\n",
    "\n",
    "# Show the plot\n",
    "show(p)\n"
   ]
  },
  {
   "cell_type": "markdown",
   "id": "00d6b76e-ffe5-4893-aa09-aa6e977fecd0",
   "metadata": {},
   "source": [
    "# 20. Using Plotly, create a basic line plot of a randomly generated dataset, label the axes, and set the title as'Simple Line Plot.\n"
   ]
  },
  {
   "cell_type": "code",
   "execution_count": 33,
   "id": "759f7238-b7a8-4336-b75a-b350c2cc2c5f",
   "metadata": {},
   "outputs": [
    {
     "data": {
      "application/vnd.plotly.v1+json": {
       "config": {
        "plotlyServerURL": "https://plot.ly"
       },
       "data": [
        {
         "mode": "lines",
         "name": "Random Data",
         "type": "scatter",
         "x": [
          0,
          0.10101010101010101,
          0.20202020202020202,
          0.30303030303030304,
          0.40404040404040403,
          0.5050505050505051,
          0.6060606060606061,
          0.7070707070707071,
          0.8080808080808081,
          0.9090909090909091,
          1.0101010101010102,
          1.1111111111111112,
          1.2121212121212122,
          1.3131313131313131,
          1.4141414141414141,
          1.5151515151515151,
          1.6161616161616161,
          1.7171717171717171,
          1.8181818181818181,
          1.9191919191919191,
          2.0202020202020203,
          2.121212121212121,
          2.2222222222222223,
          2.323232323232323,
          2.4242424242424243,
          2.525252525252525,
          2.6262626262626263,
          2.727272727272727,
          2.8282828282828283,
          2.929292929292929,
          3.0303030303030303,
          3.131313131313131,
          3.2323232323232323,
          3.3333333333333335,
          3.4343434343434343,
          3.5353535353535355,
          3.6363636363636362,
          3.7373737373737375,
          3.8383838383838382,
          3.9393939393939394,
          4.040404040404041,
          4.141414141414141,
          4.242424242424242,
          4.343434343434343,
          4.444444444444445,
          4.545454545454545,
          4.646464646464646,
          4.747474747474747,
          4.848484848484849,
          4.94949494949495,
          5.05050505050505,
          5.151515151515151,
          5.252525252525253,
          5.353535353535354,
          5.454545454545454,
          5.555555555555555,
          5.656565656565657,
          5.757575757575758,
          5.858585858585858,
          5.959595959595959,
          6.0606060606060606,
          6.161616161616162,
          6.262626262626262,
          6.363636363636363,
          6.4646464646464645,
          6.565656565656566,
          6.666666666666667,
          6.767676767676767,
          6.8686868686868685,
          6.96969696969697,
          7.070707070707071,
          7.171717171717171,
          7.2727272727272725,
          7.373737373737374,
          7.474747474747475,
          7.575757575757575,
          7.6767676767676765,
          7.777777777777778,
          7.878787878787879,
          7.979797979797979,
          8.080808080808081,
          8.181818181818182,
          8.282828282828282,
          8.383838383838384,
          8.484848484848484,
          8.585858585858587,
          8.686868686868687,
          8.787878787878787,
          8.88888888888889,
          8.98989898989899,
          9.09090909090909,
          9.191919191919192,
          9.292929292929292,
          9.393939393939394,
          9.494949494949495,
          9.595959595959595,
          9.696969696969697,
          9.797979797979798,
          9.8989898989899,
          10
         ],
         "y": [
          0.5488135039273248,
          0.7151893663724195,
          0.6027633760716439,
          0.5448831829968969,
          0.4236547993389047,
          0.6458941130666561,
          0.4375872112626925,
          0.8917730007820798,
          0.9636627605010293,
          0.3834415188257777,
          0.7917250380826646,
          0.5288949197529045,
          0.5680445610939323,
          0.925596638292661,
          0.07103605819788694,
          0.08712929970154071,
          0.02021839744032572,
          0.832619845547938,
          0.7781567509498505,
          0.8700121482468192,
          0.978618342232764,
          0.7991585642167236,
          0.46147936225293185,
          0.7805291762864555,
          0.11827442586893322,
          0.6399210213275238,
          0.1433532874090464,
          0.9446689170495839,
          0.5218483217500717,
          0.4146619399905236,
          0.26455561210462697,
          0.7742336894342167,
          0.45615033221654855,
          0.5684339488686485,
          0.018789800436355142,
          0.6176354970758771,
          0.6120957227224214,
          0.6169339968747569,
          0.9437480785146242,
          0.6818202991034834,
          0.359507900573786,
          0.43703195379934145,
          0.6976311959272649,
          0.06022547162926983,
          0.6667667154456677,
          0.6706378696181594,
          0.2103825610738409,
          0.1289262976548533,
          0.31542835092418386,
          0.3637107709426226,
          0.5701967704178796,
          0.43860151346232035,
          0.9883738380592262,
          0.10204481074802807,
          0.2088767560948347,
          0.16130951788499626,
          0.6531083254653984,
          0.2532916025397821,
          0.4663107728563063,
          0.24442559200160274,
          0.15896958364551972,
          0.11037514116430513,
          0.6563295894652734,
          0.1381829513486138,
          0.1965823616800535,
          0.3687251706609641,
          0.8209932298479351,
          0.09710127579306127,
          0.8379449074988039,
          0.09609840789396307,
          0.9764594650133958,
          0.4686512016477016,
          0.9767610881903371,
          0.604845519745046,
          0.7392635793983017,
          0.039187792254320675,
          0.2828069625764096,
          0.1201965612131689,
          0.29614019752214493,
          0.11872771895424405,
          0.317983179393976,
          0.41426299451466997,
          0.06414749634878436,
          0.6924721193700198,
          0.5666014542065752,
          0.2653894909394454,
          0.5232480534666997,
          0.09394051075844168,
          0.5759464955561793,
          0.9292961975762141,
          0.31856895245132366,
          0.6674103799636817,
          0.13179786240439217,
          0.7163272041185655,
          0.2894060929472011,
          0.18319136200711683,
          0.5865129348100832,
          0.020107546187493552,
          0.8289400292173631,
          0.004695476192547066
         ]
        }
       ],
       "layout": {
        "template": {
         "data": {
          "bar": [
           {
            "error_x": {
             "color": "#2a3f5f"
            },
            "error_y": {
             "color": "#2a3f5f"
            },
            "marker": {
             "line": {
              "color": "#E5ECF6",
              "width": 0.5
             },
             "pattern": {
              "fillmode": "overlay",
              "size": 10,
              "solidity": 0.2
             }
            },
            "type": "bar"
           }
          ],
          "barpolar": [
           {
            "marker": {
             "line": {
              "color": "#E5ECF6",
              "width": 0.5
             },
             "pattern": {
              "fillmode": "overlay",
              "size": 10,
              "solidity": 0.2
             }
            },
            "type": "barpolar"
           }
          ],
          "carpet": [
           {
            "aaxis": {
             "endlinecolor": "#2a3f5f",
             "gridcolor": "white",
             "linecolor": "white",
             "minorgridcolor": "white",
             "startlinecolor": "#2a3f5f"
            },
            "baxis": {
             "endlinecolor": "#2a3f5f",
             "gridcolor": "white",
             "linecolor": "white",
             "minorgridcolor": "white",
             "startlinecolor": "#2a3f5f"
            },
            "type": "carpet"
           }
          ],
          "choropleth": [
           {
            "colorbar": {
             "outlinewidth": 0,
             "ticks": ""
            },
            "type": "choropleth"
           }
          ],
          "contour": [
           {
            "colorbar": {
             "outlinewidth": 0,
             "ticks": ""
            },
            "colorscale": [
             [
              0,
              "#0d0887"
             ],
             [
              0.1111111111111111,
              "#46039f"
             ],
             [
              0.2222222222222222,
              "#7201a8"
             ],
             [
              0.3333333333333333,
              "#9c179e"
             ],
             [
              0.4444444444444444,
              "#bd3786"
             ],
             [
              0.5555555555555556,
              "#d8576b"
             ],
             [
              0.6666666666666666,
              "#ed7953"
             ],
             [
              0.7777777777777778,
              "#fb9f3a"
             ],
             [
              0.8888888888888888,
              "#fdca26"
             ],
             [
              1,
              "#f0f921"
             ]
            ],
            "type": "contour"
           }
          ],
          "contourcarpet": [
           {
            "colorbar": {
             "outlinewidth": 0,
             "ticks": ""
            },
            "type": "contourcarpet"
           }
          ],
          "heatmap": [
           {
            "colorbar": {
             "outlinewidth": 0,
             "ticks": ""
            },
            "colorscale": [
             [
              0,
              "#0d0887"
             ],
             [
              0.1111111111111111,
              "#46039f"
             ],
             [
              0.2222222222222222,
              "#7201a8"
             ],
             [
              0.3333333333333333,
              "#9c179e"
             ],
             [
              0.4444444444444444,
              "#bd3786"
             ],
             [
              0.5555555555555556,
              "#d8576b"
             ],
             [
              0.6666666666666666,
              "#ed7953"
             ],
             [
              0.7777777777777778,
              "#fb9f3a"
             ],
             [
              0.8888888888888888,
              "#fdca26"
             ],
             [
              1,
              "#f0f921"
             ]
            ],
            "type": "heatmap"
           }
          ],
          "heatmapgl": [
           {
            "colorbar": {
             "outlinewidth": 0,
             "ticks": ""
            },
            "colorscale": [
             [
              0,
              "#0d0887"
             ],
             [
              0.1111111111111111,
              "#46039f"
             ],
             [
              0.2222222222222222,
              "#7201a8"
             ],
             [
              0.3333333333333333,
              "#9c179e"
             ],
             [
              0.4444444444444444,
              "#bd3786"
             ],
             [
              0.5555555555555556,
              "#d8576b"
             ],
             [
              0.6666666666666666,
              "#ed7953"
             ],
             [
              0.7777777777777778,
              "#fb9f3a"
             ],
             [
              0.8888888888888888,
              "#fdca26"
             ],
             [
              1,
              "#f0f921"
             ]
            ],
            "type": "heatmapgl"
           }
          ],
          "histogram": [
           {
            "marker": {
             "pattern": {
              "fillmode": "overlay",
              "size": 10,
              "solidity": 0.2
             }
            },
            "type": "histogram"
           }
          ],
          "histogram2d": [
           {
            "colorbar": {
             "outlinewidth": 0,
             "ticks": ""
            },
            "colorscale": [
             [
              0,
              "#0d0887"
             ],
             [
              0.1111111111111111,
              "#46039f"
             ],
             [
              0.2222222222222222,
              "#7201a8"
             ],
             [
              0.3333333333333333,
              "#9c179e"
             ],
             [
              0.4444444444444444,
              "#bd3786"
             ],
             [
              0.5555555555555556,
              "#d8576b"
             ],
             [
              0.6666666666666666,
              "#ed7953"
             ],
             [
              0.7777777777777778,
              "#fb9f3a"
             ],
             [
              0.8888888888888888,
              "#fdca26"
             ],
             [
              1,
              "#f0f921"
             ]
            ],
            "type": "histogram2d"
           }
          ],
          "histogram2dcontour": [
           {
            "colorbar": {
             "outlinewidth": 0,
             "ticks": ""
            },
            "colorscale": [
             [
              0,
              "#0d0887"
             ],
             [
              0.1111111111111111,
              "#46039f"
             ],
             [
              0.2222222222222222,
              "#7201a8"
             ],
             [
              0.3333333333333333,
              "#9c179e"
             ],
             [
              0.4444444444444444,
              "#bd3786"
             ],
             [
              0.5555555555555556,
              "#d8576b"
             ],
             [
              0.6666666666666666,
              "#ed7953"
             ],
             [
              0.7777777777777778,
              "#fb9f3a"
             ],
             [
              0.8888888888888888,
              "#fdca26"
             ],
             [
              1,
              "#f0f921"
             ]
            ],
            "type": "histogram2dcontour"
           }
          ],
          "mesh3d": [
           {
            "colorbar": {
             "outlinewidth": 0,
             "ticks": ""
            },
            "type": "mesh3d"
           }
          ],
          "parcoords": [
           {
            "line": {
             "colorbar": {
              "outlinewidth": 0,
              "ticks": ""
             }
            },
            "type": "parcoords"
           }
          ],
          "pie": [
           {
            "automargin": true,
            "type": "pie"
           }
          ],
          "scatter": [
           {
            "fillpattern": {
             "fillmode": "overlay",
             "size": 10,
             "solidity": 0.2
            },
            "type": "scatter"
           }
          ],
          "scatter3d": [
           {
            "line": {
             "colorbar": {
              "outlinewidth": 0,
              "ticks": ""
             }
            },
            "marker": {
             "colorbar": {
              "outlinewidth": 0,
              "ticks": ""
             }
            },
            "type": "scatter3d"
           }
          ],
          "scattercarpet": [
           {
            "marker": {
             "colorbar": {
              "outlinewidth": 0,
              "ticks": ""
             }
            },
            "type": "scattercarpet"
           }
          ],
          "scattergeo": [
           {
            "marker": {
             "colorbar": {
              "outlinewidth": 0,
              "ticks": ""
             }
            },
            "type": "scattergeo"
           }
          ],
          "scattergl": [
           {
            "marker": {
             "colorbar": {
              "outlinewidth": 0,
              "ticks": ""
             }
            },
            "type": "scattergl"
           }
          ],
          "scattermapbox": [
           {
            "marker": {
             "colorbar": {
              "outlinewidth": 0,
              "ticks": ""
             }
            },
            "type": "scattermapbox"
           }
          ],
          "scatterpolar": [
           {
            "marker": {
             "colorbar": {
              "outlinewidth": 0,
              "ticks": ""
             }
            },
            "type": "scatterpolar"
           }
          ],
          "scatterpolargl": [
           {
            "marker": {
             "colorbar": {
              "outlinewidth": 0,
              "ticks": ""
             }
            },
            "type": "scatterpolargl"
           }
          ],
          "scatterternary": [
           {
            "marker": {
             "colorbar": {
              "outlinewidth": 0,
              "ticks": ""
             }
            },
            "type": "scatterternary"
           }
          ],
          "surface": [
           {
            "colorbar": {
             "outlinewidth": 0,
             "ticks": ""
            },
            "colorscale": [
             [
              0,
              "#0d0887"
             ],
             [
              0.1111111111111111,
              "#46039f"
             ],
             [
              0.2222222222222222,
              "#7201a8"
             ],
             [
              0.3333333333333333,
              "#9c179e"
             ],
             [
              0.4444444444444444,
              "#bd3786"
             ],
             [
              0.5555555555555556,
              "#d8576b"
             ],
             [
              0.6666666666666666,
              "#ed7953"
             ],
             [
              0.7777777777777778,
              "#fb9f3a"
             ],
             [
              0.8888888888888888,
              "#fdca26"
             ],
             [
              1,
              "#f0f921"
             ]
            ],
            "type": "surface"
           }
          ],
          "table": [
           {
            "cells": {
             "fill": {
              "color": "#EBF0F8"
             },
             "line": {
              "color": "white"
             }
            },
            "header": {
             "fill": {
              "color": "#C8D4E3"
             },
             "line": {
              "color": "white"
             }
            },
            "type": "table"
           }
          ]
         },
         "layout": {
          "annotationdefaults": {
           "arrowcolor": "#2a3f5f",
           "arrowhead": 0,
           "arrowwidth": 1
          },
          "autotypenumbers": "strict",
          "coloraxis": {
           "colorbar": {
            "outlinewidth": 0,
            "ticks": ""
           }
          },
          "colorscale": {
           "diverging": [
            [
             0,
             "#8e0152"
            ],
            [
             0.1,
             "#c51b7d"
            ],
            [
             0.2,
             "#de77ae"
            ],
            [
             0.3,
             "#f1b6da"
            ],
            [
             0.4,
             "#fde0ef"
            ],
            [
             0.5,
             "#f7f7f7"
            ],
            [
             0.6,
             "#e6f5d0"
            ],
            [
             0.7,
             "#b8e186"
            ],
            [
             0.8,
             "#7fbc41"
            ],
            [
             0.9,
             "#4d9221"
            ],
            [
             1,
             "#276419"
            ]
           ],
           "sequential": [
            [
             0,
             "#0d0887"
            ],
            [
             0.1111111111111111,
             "#46039f"
            ],
            [
             0.2222222222222222,
             "#7201a8"
            ],
            [
             0.3333333333333333,
             "#9c179e"
            ],
            [
             0.4444444444444444,
             "#bd3786"
            ],
            [
             0.5555555555555556,
             "#d8576b"
            ],
            [
             0.6666666666666666,
             "#ed7953"
            ],
            [
             0.7777777777777778,
             "#fb9f3a"
            ],
            [
             0.8888888888888888,
             "#fdca26"
            ],
            [
             1,
             "#f0f921"
            ]
           ],
           "sequentialminus": [
            [
             0,
             "#0d0887"
            ],
            [
             0.1111111111111111,
             "#46039f"
            ],
            [
             0.2222222222222222,
             "#7201a8"
            ],
            [
             0.3333333333333333,
             "#9c179e"
            ],
            [
             0.4444444444444444,
             "#bd3786"
            ],
            [
             0.5555555555555556,
             "#d8576b"
            ],
            [
             0.6666666666666666,
             "#ed7953"
            ],
            [
             0.7777777777777778,
             "#fb9f3a"
            ],
            [
             0.8888888888888888,
             "#fdca26"
            ],
            [
             1,
             "#f0f921"
            ]
           ]
          },
          "colorway": [
           "#636efa",
           "#EF553B",
           "#00cc96",
           "#ab63fa",
           "#FFA15A",
           "#19d3f3",
           "#FF6692",
           "#B6E880",
           "#FF97FF",
           "#FECB52"
          ],
          "font": {
           "color": "#2a3f5f"
          },
          "geo": {
           "bgcolor": "white",
           "lakecolor": "white",
           "landcolor": "#E5ECF6",
           "showlakes": true,
           "showland": true,
           "subunitcolor": "white"
          },
          "hoverlabel": {
           "align": "left"
          },
          "hovermode": "closest",
          "mapbox": {
           "style": "light"
          },
          "paper_bgcolor": "white",
          "plot_bgcolor": "#E5ECF6",
          "polar": {
           "angularaxis": {
            "gridcolor": "white",
            "linecolor": "white",
            "ticks": ""
           },
           "bgcolor": "#E5ECF6",
           "radialaxis": {
            "gridcolor": "white",
            "linecolor": "white",
            "ticks": ""
           }
          },
          "scene": {
           "xaxis": {
            "backgroundcolor": "#E5ECF6",
            "gridcolor": "white",
            "gridwidth": 2,
            "linecolor": "white",
            "showbackground": true,
            "ticks": "",
            "zerolinecolor": "white"
           },
           "yaxis": {
            "backgroundcolor": "#E5ECF6",
            "gridcolor": "white",
            "gridwidth": 2,
            "linecolor": "white",
            "showbackground": true,
            "ticks": "",
            "zerolinecolor": "white"
           },
           "zaxis": {
            "backgroundcolor": "#E5ECF6",
            "gridcolor": "white",
            "gridwidth": 2,
            "linecolor": "white",
            "showbackground": true,
            "ticks": "",
            "zerolinecolor": "white"
           }
          },
          "shapedefaults": {
           "line": {
            "color": "#2a3f5f"
           }
          },
          "ternary": {
           "aaxis": {
            "gridcolor": "white",
            "linecolor": "white",
            "ticks": ""
           },
           "baxis": {
            "gridcolor": "white",
            "linecolor": "white",
            "ticks": ""
           },
           "bgcolor": "#E5ECF6",
           "caxis": {
            "gridcolor": "white",
            "linecolor": "white",
            "ticks": ""
           }
          },
          "title": {
           "x": 0.05
          },
          "xaxis": {
           "automargin": true,
           "gridcolor": "white",
           "linecolor": "white",
           "ticks": "",
           "title": {
            "standoff": 15
           },
           "zerolinecolor": "white",
           "zerolinewidth": 2
          },
          "yaxis": {
           "automargin": true,
           "gridcolor": "white",
           "linecolor": "white",
           "ticks": "",
           "title": {
            "standoff": 15
           },
           "zerolinecolor": "white",
           "zerolinewidth": 2
          }
         }
        },
        "title": {
         "text": "Simple Line Plot"
        },
        "xaxis": {
         "title": {
          "text": "X-axis"
         }
        },
        "yaxis": {
         "title": {
          "text": "Y-axis"
         }
        }
       }
      },
      "text/html": [
       "<div>                            <div id=\"170b5310-82bb-4ea9-a7f1-f19865bb5e3a\" class=\"plotly-graph-div\" style=\"height:525px; width:100%;\"></div>            <script type=\"text/javascript\">                require([\"plotly\"], function(Plotly) {                    window.PLOTLYENV=window.PLOTLYENV || {};                                    if (document.getElementById(\"170b5310-82bb-4ea9-a7f1-f19865bb5e3a\")) {                    Plotly.newPlot(                        \"170b5310-82bb-4ea9-a7f1-f19865bb5e3a\",                        [{\"mode\":\"lines\",\"name\":\"Random Data\",\"x\":[0.0,0.10101010101010101,0.20202020202020202,0.30303030303030304,0.40404040404040403,0.5050505050505051,0.6060606060606061,0.7070707070707071,0.8080808080808081,0.9090909090909091,1.0101010101010102,1.1111111111111112,1.2121212121212122,1.3131313131313131,1.4141414141414141,1.5151515151515151,1.6161616161616161,1.7171717171717171,1.8181818181818181,1.9191919191919191,2.0202020202020203,2.121212121212121,2.2222222222222223,2.323232323232323,2.4242424242424243,2.525252525252525,2.6262626262626263,2.727272727272727,2.8282828282828283,2.929292929292929,3.0303030303030303,3.131313131313131,3.2323232323232323,3.3333333333333335,3.4343434343434343,3.5353535353535355,3.6363636363636362,3.7373737373737375,3.8383838383838382,3.9393939393939394,4.040404040404041,4.141414141414141,4.242424242424242,4.343434343434343,4.444444444444445,4.545454545454545,4.646464646464646,4.747474747474747,4.848484848484849,4.94949494949495,5.05050505050505,5.151515151515151,5.252525252525253,5.353535353535354,5.454545454545454,5.555555555555555,5.656565656565657,5.757575757575758,5.858585858585858,5.959595959595959,6.0606060606060606,6.161616161616162,6.262626262626262,6.363636363636363,6.4646464646464645,6.565656565656566,6.666666666666667,6.767676767676767,6.8686868686868685,6.96969696969697,7.070707070707071,7.171717171717171,7.2727272727272725,7.373737373737374,7.474747474747475,7.575757575757575,7.6767676767676765,7.777777777777778,7.878787878787879,7.979797979797979,8.080808080808081,8.181818181818182,8.282828282828282,8.383838383838384,8.484848484848484,8.585858585858587,8.686868686868687,8.787878787878787,8.88888888888889,8.98989898989899,9.09090909090909,9.191919191919192,9.292929292929292,9.393939393939394,9.494949494949495,9.595959595959595,9.696969696969697,9.797979797979798,9.8989898989899,10.0],\"y\":[0.5488135039273248,0.7151893663724195,0.6027633760716439,0.5448831829968969,0.4236547993389047,0.6458941130666561,0.4375872112626925,0.8917730007820798,0.9636627605010293,0.3834415188257777,0.7917250380826646,0.5288949197529045,0.5680445610939323,0.925596638292661,0.07103605819788694,0.08712929970154071,0.02021839744032572,0.832619845547938,0.7781567509498505,0.8700121482468192,0.978618342232764,0.7991585642167236,0.46147936225293185,0.7805291762864555,0.11827442586893322,0.6399210213275238,0.1433532874090464,0.9446689170495839,0.5218483217500717,0.4146619399905236,0.26455561210462697,0.7742336894342167,0.45615033221654855,0.5684339488686485,0.018789800436355142,0.6176354970758771,0.6120957227224214,0.6169339968747569,0.9437480785146242,0.6818202991034834,0.359507900573786,0.43703195379934145,0.6976311959272649,0.06022547162926983,0.6667667154456677,0.6706378696181594,0.2103825610738409,0.1289262976548533,0.31542835092418386,0.3637107709426226,0.5701967704178796,0.43860151346232035,0.9883738380592262,0.10204481074802807,0.2088767560948347,0.16130951788499626,0.6531083254653984,0.2532916025397821,0.4663107728563063,0.24442559200160274,0.15896958364551972,0.11037514116430513,0.6563295894652734,0.1381829513486138,0.1965823616800535,0.3687251706609641,0.8209932298479351,0.09710127579306127,0.8379449074988039,0.09609840789396307,0.9764594650133958,0.4686512016477016,0.9767610881903371,0.604845519745046,0.7392635793983017,0.039187792254320675,0.2828069625764096,0.1201965612131689,0.29614019752214493,0.11872771895424405,0.317983179393976,0.41426299451466997,0.06414749634878436,0.6924721193700198,0.5666014542065752,0.2653894909394454,0.5232480534666997,0.09394051075844168,0.5759464955561793,0.9292961975762141,0.31856895245132366,0.6674103799636817,0.13179786240439217,0.7163272041185655,0.2894060929472011,0.18319136200711683,0.5865129348100832,0.020107546187493552,0.8289400292173631,0.004695476192547066],\"type\":\"scatter\"}],                        {\"template\":{\"data\":{\"histogram2dcontour\":[{\"type\":\"histogram2dcontour\",\"colorbar\":{\"outlinewidth\":0,\"ticks\":\"\"},\"colorscale\":[[0.0,\"#0d0887\"],[0.1111111111111111,\"#46039f\"],[0.2222222222222222,\"#7201a8\"],[0.3333333333333333,\"#9c179e\"],[0.4444444444444444,\"#bd3786\"],[0.5555555555555556,\"#d8576b\"],[0.6666666666666666,\"#ed7953\"],[0.7777777777777778,\"#fb9f3a\"],[0.8888888888888888,\"#fdca26\"],[1.0,\"#f0f921\"]]}],\"choropleth\":[{\"type\":\"choropleth\",\"colorbar\":{\"outlinewidth\":0,\"ticks\":\"\"}}],\"histogram2d\":[{\"type\":\"histogram2d\",\"colorbar\":{\"outlinewidth\":0,\"ticks\":\"\"},\"colorscale\":[[0.0,\"#0d0887\"],[0.1111111111111111,\"#46039f\"],[0.2222222222222222,\"#7201a8\"],[0.3333333333333333,\"#9c179e\"],[0.4444444444444444,\"#bd3786\"],[0.5555555555555556,\"#d8576b\"],[0.6666666666666666,\"#ed7953\"],[0.7777777777777778,\"#fb9f3a\"],[0.8888888888888888,\"#fdca26\"],[1.0,\"#f0f921\"]]}],\"heatmap\":[{\"type\":\"heatmap\",\"colorbar\":{\"outlinewidth\":0,\"ticks\":\"\"},\"colorscale\":[[0.0,\"#0d0887\"],[0.1111111111111111,\"#46039f\"],[0.2222222222222222,\"#7201a8\"],[0.3333333333333333,\"#9c179e\"],[0.4444444444444444,\"#bd3786\"],[0.5555555555555556,\"#d8576b\"],[0.6666666666666666,\"#ed7953\"],[0.7777777777777778,\"#fb9f3a\"],[0.8888888888888888,\"#fdca26\"],[1.0,\"#f0f921\"]]}],\"heatmapgl\":[{\"type\":\"heatmapgl\",\"colorbar\":{\"outlinewidth\":0,\"ticks\":\"\"},\"colorscale\":[[0.0,\"#0d0887\"],[0.1111111111111111,\"#46039f\"],[0.2222222222222222,\"#7201a8\"],[0.3333333333333333,\"#9c179e\"],[0.4444444444444444,\"#bd3786\"],[0.5555555555555556,\"#d8576b\"],[0.6666666666666666,\"#ed7953\"],[0.7777777777777778,\"#fb9f3a\"],[0.8888888888888888,\"#fdca26\"],[1.0,\"#f0f921\"]]}],\"contourcarpet\":[{\"type\":\"contourcarpet\",\"colorbar\":{\"outlinewidth\":0,\"ticks\":\"\"}}],\"contour\":[{\"type\":\"contour\",\"colorbar\":{\"outlinewidth\":0,\"ticks\":\"\"},\"colorscale\":[[0.0,\"#0d0887\"],[0.1111111111111111,\"#46039f\"],[0.2222222222222222,\"#7201a8\"],[0.3333333333333333,\"#9c179e\"],[0.4444444444444444,\"#bd3786\"],[0.5555555555555556,\"#d8576b\"],[0.6666666666666666,\"#ed7953\"],[0.7777777777777778,\"#fb9f3a\"],[0.8888888888888888,\"#fdca26\"],[1.0,\"#f0f921\"]]}],\"surface\":[{\"type\":\"surface\",\"colorbar\":{\"outlinewidth\":0,\"ticks\":\"\"},\"colorscale\":[[0.0,\"#0d0887\"],[0.1111111111111111,\"#46039f\"],[0.2222222222222222,\"#7201a8\"],[0.3333333333333333,\"#9c179e\"],[0.4444444444444444,\"#bd3786\"],[0.5555555555555556,\"#d8576b\"],[0.6666666666666666,\"#ed7953\"],[0.7777777777777778,\"#fb9f3a\"],[0.8888888888888888,\"#fdca26\"],[1.0,\"#f0f921\"]]}],\"mesh3d\":[{\"type\":\"mesh3d\",\"colorbar\":{\"outlinewidth\":0,\"ticks\":\"\"}}],\"scatter\":[{\"fillpattern\":{\"fillmode\":\"overlay\",\"size\":10,\"solidity\":0.2},\"type\":\"scatter\"}],\"parcoords\":[{\"type\":\"parcoords\",\"line\":{\"colorbar\":{\"outlinewidth\":0,\"ticks\":\"\"}}}],\"scatterpolargl\":[{\"type\":\"scatterpolargl\",\"marker\":{\"colorbar\":{\"outlinewidth\":0,\"ticks\":\"\"}}}],\"bar\":[{\"error_x\":{\"color\":\"#2a3f5f\"},\"error_y\":{\"color\":\"#2a3f5f\"},\"marker\":{\"line\":{\"color\":\"#E5ECF6\",\"width\":0.5},\"pattern\":{\"fillmode\":\"overlay\",\"size\":10,\"solidity\":0.2}},\"type\":\"bar\"}],\"scattergeo\":[{\"type\":\"scattergeo\",\"marker\":{\"colorbar\":{\"outlinewidth\":0,\"ticks\":\"\"}}}],\"scatterpolar\":[{\"type\":\"scatterpolar\",\"marker\":{\"colorbar\":{\"outlinewidth\":0,\"ticks\":\"\"}}}],\"histogram\":[{\"marker\":{\"pattern\":{\"fillmode\":\"overlay\",\"size\":10,\"solidity\":0.2}},\"type\":\"histogram\"}],\"scattergl\":[{\"type\":\"scattergl\",\"marker\":{\"colorbar\":{\"outlinewidth\":0,\"ticks\":\"\"}}}],\"scatter3d\":[{\"type\":\"scatter3d\",\"line\":{\"colorbar\":{\"outlinewidth\":0,\"ticks\":\"\"}},\"marker\":{\"colorbar\":{\"outlinewidth\":0,\"ticks\":\"\"}}}],\"scattermapbox\":[{\"type\":\"scattermapbox\",\"marker\":{\"colorbar\":{\"outlinewidth\":0,\"ticks\":\"\"}}}],\"scatterternary\":[{\"type\":\"scatterternary\",\"marker\":{\"colorbar\":{\"outlinewidth\":0,\"ticks\":\"\"}}}],\"scattercarpet\":[{\"type\":\"scattercarpet\",\"marker\":{\"colorbar\":{\"outlinewidth\":0,\"ticks\":\"\"}}}],\"carpet\":[{\"aaxis\":{\"endlinecolor\":\"#2a3f5f\",\"gridcolor\":\"white\",\"linecolor\":\"white\",\"minorgridcolor\":\"white\",\"startlinecolor\":\"#2a3f5f\"},\"baxis\":{\"endlinecolor\":\"#2a3f5f\",\"gridcolor\":\"white\",\"linecolor\":\"white\",\"minorgridcolor\":\"white\",\"startlinecolor\":\"#2a3f5f\"},\"type\":\"carpet\"}],\"table\":[{\"cells\":{\"fill\":{\"color\":\"#EBF0F8\"},\"line\":{\"color\":\"white\"}},\"header\":{\"fill\":{\"color\":\"#C8D4E3\"},\"line\":{\"color\":\"white\"}},\"type\":\"table\"}],\"barpolar\":[{\"marker\":{\"line\":{\"color\":\"#E5ECF6\",\"width\":0.5},\"pattern\":{\"fillmode\":\"overlay\",\"size\":10,\"solidity\":0.2}},\"type\":\"barpolar\"}],\"pie\":[{\"automargin\":true,\"type\":\"pie\"}]},\"layout\":{\"autotypenumbers\":\"strict\",\"colorway\":[\"#636efa\",\"#EF553B\",\"#00cc96\",\"#ab63fa\",\"#FFA15A\",\"#19d3f3\",\"#FF6692\",\"#B6E880\",\"#FF97FF\",\"#FECB52\"],\"font\":{\"color\":\"#2a3f5f\"},\"hovermode\":\"closest\",\"hoverlabel\":{\"align\":\"left\"},\"paper_bgcolor\":\"white\",\"plot_bgcolor\":\"#E5ECF6\",\"polar\":{\"bgcolor\":\"#E5ECF6\",\"angularaxis\":{\"gridcolor\":\"white\",\"linecolor\":\"white\",\"ticks\":\"\"},\"radialaxis\":{\"gridcolor\":\"white\",\"linecolor\":\"white\",\"ticks\":\"\"}},\"ternary\":{\"bgcolor\":\"#E5ECF6\",\"aaxis\":{\"gridcolor\":\"white\",\"linecolor\":\"white\",\"ticks\":\"\"},\"baxis\":{\"gridcolor\":\"white\",\"linecolor\":\"white\",\"ticks\":\"\"},\"caxis\":{\"gridcolor\":\"white\",\"linecolor\":\"white\",\"ticks\":\"\"}},\"coloraxis\":{\"colorbar\":{\"outlinewidth\":0,\"ticks\":\"\"}},\"colorscale\":{\"sequential\":[[0.0,\"#0d0887\"],[0.1111111111111111,\"#46039f\"],[0.2222222222222222,\"#7201a8\"],[0.3333333333333333,\"#9c179e\"],[0.4444444444444444,\"#bd3786\"],[0.5555555555555556,\"#d8576b\"],[0.6666666666666666,\"#ed7953\"],[0.7777777777777778,\"#fb9f3a\"],[0.8888888888888888,\"#fdca26\"],[1.0,\"#f0f921\"]],\"sequentialminus\":[[0.0,\"#0d0887\"],[0.1111111111111111,\"#46039f\"],[0.2222222222222222,\"#7201a8\"],[0.3333333333333333,\"#9c179e\"],[0.4444444444444444,\"#bd3786\"],[0.5555555555555556,\"#d8576b\"],[0.6666666666666666,\"#ed7953\"],[0.7777777777777778,\"#fb9f3a\"],[0.8888888888888888,\"#fdca26\"],[1.0,\"#f0f921\"]],\"diverging\":[[0,\"#8e0152\"],[0.1,\"#c51b7d\"],[0.2,\"#de77ae\"],[0.3,\"#f1b6da\"],[0.4,\"#fde0ef\"],[0.5,\"#f7f7f7\"],[0.6,\"#e6f5d0\"],[0.7,\"#b8e186\"],[0.8,\"#7fbc41\"],[0.9,\"#4d9221\"],[1,\"#276419\"]]},\"xaxis\":{\"gridcolor\":\"white\",\"linecolor\":\"white\",\"ticks\":\"\",\"title\":{\"standoff\":15},\"zerolinecolor\":\"white\",\"automargin\":true,\"zerolinewidth\":2},\"yaxis\":{\"gridcolor\":\"white\",\"linecolor\":\"white\",\"ticks\":\"\",\"title\":{\"standoff\":15},\"zerolinecolor\":\"white\",\"automargin\":true,\"zerolinewidth\":2},\"scene\":{\"xaxis\":{\"backgroundcolor\":\"#E5ECF6\",\"gridcolor\":\"white\",\"linecolor\":\"white\",\"showbackground\":true,\"ticks\":\"\",\"zerolinecolor\":\"white\",\"gridwidth\":2},\"yaxis\":{\"backgroundcolor\":\"#E5ECF6\",\"gridcolor\":\"white\",\"linecolor\":\"white\",\"showbackground\":true,\"ticks\":\"\",\"zerolinecolor\":\"white\",\"gridwidth\":2},\"zaxis\":{\"backgroundcolor\":\"#E5ECF6\",\"gridcolor\":\"white\",\"linecolor\":\"white\",\"showbackground\":true,\"ticks\":\"\",\"zerolinecolor\":\"white\",\"gridwidth\":2}},\"shapedefaults\":{\"line\":{\"color\":\"#2a3f5f\"}},\"annotationdefaults\":{\"arrowcolor\":\"#2a3f5f\",\"arrowhead\":0,\"arrowwidth\":1},\"geo\":{\"bgcolor\":\"white\",\"landcolor\":\"#E5ECF6\",\"subunitcolor\":\"white\",\"showland\":true,\"showlakes\":true,\"lakecolor\":\"white\"},\"title\":{\"x\":0.05},\"mapbox\":{\"style\":\"light\"}}},\"title\":{\"text\":\"Simple Line Plot\"},\"xaxis\":{\"title\":{\"text\":\"X-axis\"}},\"yaxis\":{\"title\":{\"text\":\"Y-axis\"}}},                        {\"responsive\": true}                    ).then(function(){\n",
       "                            \n",
       "var gd = document.getElementById('170b5310-82bb-4ea9-a7f1-f19865bb5e3a');\n",
       "var x = new MutationObserver(function (mutations, observer) {{\n",
       "        var display = window.getComputedStyle(gd).display;\n",
       "        if (!display || display === 'none') {{\n",
       "            console.log([gd, 'removed!']);\n",
       "            Plotly.purge(gd);\n",
       "            observer.disconnect();\n",
       "        }}\n",
       "}});\n",
       "\n",
       "// Listen for the removal of the full notebook cells\n",
       "var notebookContainer = gd.closest('#notebook-container');\n",
       "if (notebookContainer) {{\n",
       "    x.observe(notebookContainer, {childList: true});\n",
       "}}\n",
       "\n",
       "// Listen for the clearing of the current output cell\n",
       "var outputEl = gd.closest('.output');\n",
       "if (outputEl) {{\n",
       "    x.observe(outputEl, {childList: true});\n",
       "}}\n",
       "\n",
       "                        })                };                });            </script>        </div>"
      ]
     },
     "metadata": {},
     "output_type": "display_data"
    }
   ],
   "source": [
    "import plotly.graph_objects as go\n",
    "import numpy as np\n",
    "\n",
    "# Step 1: Generate random data\n",
    "np.random.seed(0)  # For reproducibility\n",
    "x = np.linspace(0, 10, 100)  # 100 points between 0 and 10\n",
    "y = np.random.random(100)  # 100 random values between 0 and 1\n",
    "\n",
    "# Step 2: Create the line plot\n",
    "fig = go.Figure()\n",
    "\n",
    "# Add the line plot to the figure\n",
    "fig.add_trace(go.Scatter(x=x, y=y, mode='lines', name='Random Data'))\n",
    "\n",
    "# Step 3: Label the axes and set the title\n",
    "fig.update_layout(\n",
    "    title='Simple Line Plot',\n",
    "    xaxis_title='X-axis',\n",
    "    yaxis_title='Y-axis'\n",
    ")\n",
    "\n",
    "# Show the plot\n",
    "fig.show()\n"
   ]
  },
  {
   "cell_type": "markdown",
   "id": "e85e8c7a-adcf-4822-ac9e-2771875c4c15",
   "metadata": {},
   "source": [
    "# 21. Using Plotly, create an interactive pie chart of randomly generated data, add labels and percentages, set the title as 'Interactive Pie Chart'."
   ]
  },
  {
   "cell_type": "code",
   "execution_count": 36,
   "id": "c7b64400-84fd-47bf-a60b-957b9dd7507d",
   "metadata": {},
   "outputs": [
    {
     "data": {
      "application/vnd.plotly.v1+json": {
       "config": {
        "plotlyServerURL": "https://plot.ly"
       },
       "data": [
        {
         "hole": 0.3,
         "labels": [
          "Category 0",
          "Category 1",
          "Category 2",
          "Category 3",
          "Category 4",
          "Category 5",
          "Category 6",
          "Category 7"
         ],
         "textinfo": "label+percent",
         "type": "pie",
         "values": [
          49,
          5,
          8,
          8,
          44,
          14,
          24,
          26
         ]
        }
       ],
       "layout": {
        "template": {
         "data": {
          "bar": [
           {
            "error_x": {
             "color": "#2a3f5f"
            },
            "error_y": {
             "color": "#2a3f5f"
            },
            "marker": {
             "line": {
              "color": "#E5ECF6",
              "width": 0.5
             },
             "pattern": {
              "fillmode": "overlay",
              "size": 10,
              "solidity": 0.2
             }
            },
            "type": "bar"
           }
          ],
          "barpolar": [
           {
            "marker": {
             "line": {
              "color": "#E5ECF6",
              "width": 0.5
             },
             "pattern": {
              "fillmode": "overlay",
              "size": 10,
              "solidity": 0.2
             }
            },
            "type": "barpolar"
           }
          ],
          "carpet": [
           {
            "aaxis": {
             "endlinecolor": "#2a3f5f",
             "gridcolor": "white",
             "linecolor": "white",
             "minorgridcolor": "white",
             "startlinecolor": "#2a3f5f"
            },
            "baxis": {
             "endlinecolor": "#2a3f5f",
             "gridcolor": "white",
             "linecolor": "white",
             "minorgridcolor": "white",
             "startlinecolor": "#2a3f5f"
            },
            "type": "carpet"
           }
          ],
          "choropleth": [
           {
            "colorbar": {
             "outlinewidth": 0,
             "ticks": ""
            },
            "type": "choropleth"
           }
          ],
          "contour": [
           {
            "colorbar": {
             "outlinewidth": 0,
             "ticks": ""
            },
            "colorscale": [
             [
              0,
              "#0d0887"
             ],
             [
              0.1111111111111111,
              "#46039f"
             ],
             [
              0.2222222222222222,
              "#7201a8"
             ],
             [
              0.3333333333333333,
              "#9c179e"
             ],
             [
              0.4444444444444444,
              "#bd3786"
             ],
             [
              0.5555555555555556,
              "#d8576b"
             ],
             [
              0.6666666666666666,
              "#ed7953"
             ],
             [
              0.7777777777777778,
              "#fb9f3a"
             ],
             [
              0.8888888888888888,
              "#fdca26"
             ],
             [
              1,
              "#f0f921"
             ]
            ],
            "type": "contour"
           }
          ],
          "contourcarpet": [
           {
            "colorbar": {
             "outlinewidth": 0,
             "ticks": ""
            },
            "type": "contourcarpet"
           }
          ],
          "heatmap": [
           {
            "colorbar": {
             "outlinewidth": 0,
             "ticks": ""
            },
            "colorscale": [
             [
              0,
              "#0d0887"
             ],
             [
              0.1111111111111111,
              "#46039f"
             ],
             [
              0.2222222222222222,
              "#7201a8"
             ],
             [
              0.3333333333333333,
              "#9c179e"
             ],
             [
              0.4444444444444444,
              "#bd3786"
             ],
             [
              0.5555555555555556,
              "#d8576b"
             ],
             [
              0.6666666666666666,
              "#ed7953"
             ],
             [
              0.7777777777777778,
              "#fb9f3a"
             ],
             [
              0.8888888888888888,
              "#fdca26"
             ],
             [
              1,
              "#f0f921"
             ]
            ],
            "type": "heatmap"
           }
          ],
          "heatmapgl": [
           {
            "colorbar": {
             "outlinewidth": 0,
             "ticks": ""
            },
            "colorscale": [
             [
              0,
              "#0d0887"
             ],
             [
              0.1111111111111111,
              "#46039f"
             ],
             [
              0.2222222222222222,
              "#7201a8"
             ],
             [
              0.3333333333333333,
              "#9c179e"
             ],
             [
              0.4444444444444444,
              "#bd3786"
             ],
             [
              0.5555555555555556,
              "#d8576b"
             ],
             [
              0.6666666666666666,
              "#ed7953"
             ],
             [
              0.7777777777777778,
              "#fb9f3a"
             ],
             [
              0.8888888888888888,
              "#fdca26"
             ],
             [
              1,
              "#f0f921"
             ]
            ],
            "type": "heatmapgl"
           }
          ],
          "histogram": [
           {
            "marker": {
             "pattern": {
              "fillmode": "overlay",
              "size": 10,
              "solidity": 0.2
             }
            },
            "type": "histogram"
           }
          ],
          "histogram2d": [
           {
            "colorbar": {
             "outlinewidth": 0,
             "ticks": ""
            },
            "colorscale": [
             [
              0,
              "#0d0887"
             ],
             [
              0.1111111111111111,
              "#46039f"
             ],
             [
              0.2222222222222222,
              "#7201a8"
             ],
             [
              0.3333333333333333,
              "#9c179e"
             ],
             [
              0.4444444444444444,
              "#bd3786"
             ],
             [
              0.5555555555555556,
              "#d8576b"
             ],
             [
              0.6666666666666666,
              "#ed7953"
             ],
             [
              0.7777777777777778,
              "#fb9f3a"
             ],
             [
              0.8888888888888888,
              "#fdca26"
             ],
             [
              1,
              "#f0f921"
             ]
            ],
            "type": "histogram2d"
           }
          ],
          "histogram2dcontour": [
           {
            "colorbar": {
             "outlinewidth": 0,
             "ticks": ""
            },
            "colorscale": [
             [
              0,
              "#0d0887"
             ],
             [
              0.1111111111111111,
              "#46039f"
             ],
             [
              0.2222222222222222,
              "#7201a8"
             ],
             [
              0.3333333333333333,
              "#9c179e"
             ],
             [
              0.4444444444444444,
              "#bd3786"
             ],
             [
              0.5555555555555556,
              "#d8576b"
             ],
             [
              0.6666666666666666,
              "#ed7953"
             ],
             [
              0.7777777777777778,
              "#fb9f3a"
             ],
             [
              0.8888888888888888,
              "#fdca26"
             ],
             [
              1,
              "#f0f921"
             ]
            ],
            "type": "histogram2dcontour"
           }
          ],
          "mesh3d": [
           {
            "colorbar": {
             "outlinewidth": 0,
             "ticks": ""
            },
            "type": "mesh3d"
           }
          ],
          "parcoords": [
           {
            "line": {
             "colorbar": {
              "outlinewidth": 0,
              "ticks": ""
             }
            },
            "type": "parcoords"
           }
          ],
          "pie": [
           {
            "automargin": true,
            "type": "pie"
           }
          ],
          "scatter": [
           {
            "fillpattern": {
             "fillmode": "overlay",
             "size": 10,
             "solidity": 0.2
            },
            "type": "scatter"
           }
          ],
          "scatter3d": [
           {
            "line": {
             "colorbar": {
              "outlinewidth": 0,
              "ticks": ""
             }
            },
            "marker": {
             "colorbar": {
              "outlinewidth": 0,
              "ticks": ""
             }
            },
            "type": "scatter3d"
           }
          ],
          "scattercarpet": [
           {
            "marker": {
             "colorbar": {
              "outlinewidth": 0,
              "ticks": ""
             }
            },
            "type": "scattercarpet"
           }
          ],
          "scattergeo": [
           {
            "marker": {
             "colorbar": {
              "outlinewidth": 0,
              "ticks": ""
             }
            },
            "type": "scattergeo"
           }
          ],
          "scattergl": [
           {
            "marker": {
             "colorbar": {
              "outlinewidth": 0,
              "ticks": ""
             }
            },
            "type": "scattergl"
           }
          ],
          "scattermapbox": [
           {
            "marker": {
             "colorbar": {
              "outlinewidth": 0,
              "ticks": ""
             }
            },
            "type": "scattermapbox"
           }
          ],
          "scatterpolar": [
           {
            "marker": {
             "colorbar": {
              "outlinewidth": 0,
              "ticks": ""
             }
            },
            "type": "scatterpolar"
           }
          ],
          "scatterpolargl": [
           {
            "marker": {
             "colorbar": {
              "outlinewidth": 0,
              "ticks": ""
             }
            },
            "type": "scatterpolargl"
           }
          ],
          "scatterternary": [
           {
            "marker": {
             "colorbar": {
              "outlinewidth": 0,
              "ticks": ""
             }
            },
            "type": "scatterternary"
           }
          ],
          "surface": [
           {
            "colorbar": {
             "outlinewidth": 0,
             "ticks": ""
            },
            "colorscale": [
             [
              0,
              "#0d0887"
             ],
             [
              0.1111111111111111,
              "#46039f"
             ],
             [
              0.2222222222222222,
              "#7201a8"
             ],
             [
              0.3333333333333333,
              "#9c179e"
             ],
             [
              0.4444444444444444,
              "#bd3786"
             ],
             [
              0.5555555555555556,
              "#d8576b"
             ],
             [
              0.6666666666666666,
              "#ed7953"
             ],
             [
              0.7777777777777778,
              "#fb9f3a"
             ],
             [
              0.8888888888888888,
              "#fdca26"
             ],
             [
              1,
              "#f0f921"
             ]
            ],
            "type": "surface"
           }
          ],
          "table": [
           {
            "cells": {
             "fill": {
              "color": "#EBF0F8"
             },
             "line": {
              "color": "white"
             }
            },
            "header": {
             "fill": {
              "color": "#C8D4E3"
             },
             "line": {
              "color": "white"
             }
            },
            "type": "table"
           }
          ]
         },
         "layout": {
          "annotationdefaults": {
           "arrowcolor": "#2a3f5f",
           "arrowhead": 0,
           "arrowwidth": 1
          },
          "autotypenumbers": "strict",
          "coloraxis": {
           "colorbar": {
            "outlinewidth": 0,
            "ticks": ""
           }
          },
          "colorscale": {
           "diverging": [
            [
             0,
             "#8e0152"
            ],
            [
             0.1,
             "#c51b7d"
            ],
            [
             0.2,
             "#de77ae"
            ],
            [
             0.3,
             "#f1b6da"
            ],
            [
             0.4,
             "#fde0ef"
            ],
            [
             0.5,
             "#f7f7f7"
            ],
            [
             0.6,
             "#e6f5d0"
            ],
            [
             0.7,
             "#b8e186"
            ],
            [
             0.8,
             "#7fbc41"
            ],
            [
             0.9,
             "#4d9221"
            ],
            [
             1,
             "#276419"
            ]
           ],
           "sequential": [
            [
             0,
             "#0d0887"
            ],
            [
             0.1111111111111111,
             "#46039f"
            ],
            [
             0.2222222222222222,
             "#7201a8"
            ],
            [
             0.3333333333333333,
             "#9c179e"
            ],
            [
             0.4444444444444444,
             "#bd3786"
            ],
            [
             0.5555555555555556,
             "#d8576b"
            ],
            [
             0.6666666666666666,
             "#ed7953"
            ],
            [
             0.7777777777777778,
             "#fb9f3a"
            ],
            [
             0.8888888888888888,
             "#fdca26"
            ],
            [
             1,
             "#f0f921"
            ]
           ],
           "sequentialminus": [
            [
             0,
             "#0d0887"
            ],
            [
             0.1111111111111111,
             "#46039f"
            ],
            [
             0.2222222222222222,
             "#7201a8"
            ],
            [
             0.3333333333333333,
             "#9c179e"
            ],
            [
             0.4444444444444444,
             "#bd3786"
            ],
            [
             0.5555555555555556,
             "#d8576b"
            ],
            [
             0.6666666666666666,
             "#ed7953"
            ],
            [
             0.7777777777777778,
             "#fb9f3a"
            ],
            [
             0.8888888888888888,
             "#fdca26"
            ],
            [
             1,
             "#f0f921"
            ]
           ]
          },
          "colorway": [
           "#636efa",
           "#EF553B",
           "#00cc96",
           "#ab63fa",
           "#FFA15A",
           "#19d3f3",
           "#FF6692",
           "#B6E880",
           "#FF97FF",
           "#FECB52"
          ],
          "font": {
           "color": "#2a3f5f"
          },
          "geo": {
           "bgcolor": "white",
           "lakecolor": "white",
           "landcolor": "#E5ECF6",
           "showlakes": true,
           "showland": true,
           "subunitcolor": "white"
          },
          "hoverlabel": {
           "align": "left"
          },
          "hovermode": "closest",
          "mapbox": {
           "style": "light"
          },
          "paper_bgcolor": "white",
          "plot_bgcolor": "#E5ECF6",
          "polar": {
           "angularaxis": {
            "gridcolor": "white",
            "linecolor": "white",
            "ticks": ""
           },
           "bgcolor": "#E5ECF6",
           "radialaxis": {
            "gridcolor": "white",
            "linecolor": "white",
            "ticks": ""
           }
          },
          "scene": {
           "xaxis": {
            "backgroundcolor": "#E5ECF6",
            "gridcolor": "white",
            "gridwidth": 2,
            "linecolor": "white",
            "showbackground": true,
            "ticks": "",
            "zerolinecolor": "white"
           },
           "yaxis": {
            "backgroundcolor": "#E5ECF6",
            "gridcolor": "white",
            "gridwidth": 2,
            "linecolor": "white",
            "showbackground": true,
            "ticks": "",
            "zerolinecolor": "white"
           },
           "zaxis": {
            "backgroundcolor": "#E5ECF6",
            "gridcolor": "white",
            "gridwidth": 2,
            "linecolor": "white",
            "showbackground": true,
            "ticks": "",
            "zerolinecolor": "white"
           }
          },
          "shapedefaults": {
           "line": {
            "color": "#2a3f5f"
           }
          },
          "ternary": {
           "aaxis": {
            "gridcolor": "white",
            "linecolor": "white",
            "ticks": ""
           },
           "baxis": {
            "gridcolor": "white",
            "linecolor": "white",
            "ticks": ""
           },
           "bgcolor": "#E5ECF6",
           "caxis": {
            "gridcolor": "white",
            "linecolor": "white",
            "ticks": ""
           }
          },
          "title": {
           "x": 0.05
          },
          "xaxis": {
           "automargin": true,
           "gridcolor": "white",
           "linecolor": "white",
           "ticks": "",
           "title": {
            "standoff": 15
           },
           "zerolinecolor": "white",
           "zerolinewidth": 2
          },
          "yaxis": {
           "automargin": true,
           "gridcolor": "white",
           "linecolor": "white",
           "ticks": "",
           "title": {
            "standoff": 15
           },
           "zerolinecolor": "white",
           "zerolinewidth": 2
          }
         }
        },
        "title": {
         "text": "Interactive Pie Chart"
        }
       }
      },
      "text/html": [
       "<div>                            <div id=\"669a4577-43b4-40cf-bfe0-7f3b20e384c8\" class=\"plotly-graph-div\" style=\"height:525px; width:100%;\"></div>            <script type=\"text/javascript\">                require([\"plotly\"], function(Plotly) {                    window.PLOTLYENV=window.PLOTLYENV || {};                                    if (document.getElementById(\"669a4577-43b4-40cf-bfe0-7f3b20e384c8\")) {                    Plotly.newPlot(                        \"669a4577-43b4-40cf-bfe0-7f3b20e384c8\",                        [{\"hole\":0.3,\"labels\":[\"Category 0\",\"Category 1\",\"Category 2\",\"Category 3\",\"Category 4\",\"Category 5\",\"Category 6\",\"Category 7\"],\"textinfo\":\"label+percent\",\"values\":[49,5,8,8,44,14,24,26],\"type\":\"pie\"}],                        {\"template\":{\"data\":{\"histogram2dcontour\":[{\"type\":\"histogram2dcontour\",\"colorbar\":{\"outlinewidth\":0,\"ticks\":\"\"},\"colorscale\":[[0.0,\"#0d0887\"],[0.1111111111111111,\"#46039f\"],[0.2222222222222222,\"#7201a8\"],[0.3333333333333333,\"#9c179e\"],[0.4444444444444444,\"#bd3786\"],[0.5555555555555556,\"#d8576b\"],[0.6666666666666666,\"#ed7953\"],[0.7777777777777778,\"#fb9f3a\"],[0.8888888888888888,\"#fdca26\"],[1.0,\"#f0f921\"]]}],\"choropleth\":[{\"type\":\"choropleth\",\"colorbar\":{\"outlinewidth\":0,\"ticks\":\"\"}}],\"histogram2d\":[{\"type\":\"histogram2d\",\"colorbar\":{\"outlinewidth\":0,\"ticks\":\"\"},\"colorscale\":[[0.0,\"#0d0887\"],[0.1111111111111111,\"#46039f\"],[0.2222222222222222,\"#7201a8\"],[0.3333333333333333,\"#9c179e\"],[0.4444444444444444,\"#bd3786\"],[0.5555555555555556,\"#d8576b\"],[0.6666666666666666,\"#ed7953\"],[0.7777777777777778,\"#fb9f3a\"],[0.8888888888888888,\"#fdca26\"],[1.0,\"#f0f921\"]]}],\"heatmap\":[{\"type\":\"heatmap\",\"colorbar\":{\"outlinewidth\":0,\"ticks\":\"\"},\"colorscale\":[[0.0,\"#0d0887\"],[0.1111111111111111,\"#46039f\"],[0.2222222222222222,\"#7201a8\"],[0.3333333333333333,\"#9c179e\"],[0.4444444444444444,\"#bd3786\"],[0.5555555555555556,\"#d8576b\"],[0.6666666666666666,\"#ed7953\"],[0.7777777777777778,\"#fb9f3a\"],[0.8888888888888888,\"#fdca26\"],[1.0,\"#f0f921\"]]}],\"heatmapgl\":[{\"type\":\"heatmapgl\",\"colorbar\":{\"outlinewidth\":0,\"ticks\":\"\"},\"colorscale\":[[0.0,\"#0d0887\"],[0.1111111111111111,\"#46039f\"],[0.2222222222222222,\"#7201a8\"],[0.3333333333333333,\"#9c179e\"],[0.4444444444444444,\"#bd3786\"],[0.5555555555555556,\"#d8576b\"],[0.6666666666666666,\"#ed7953\"],[0.7777777777777778,\"#fb9f3a\"],[0.8888888888888888,\"#fdca26\"],[1.0,\"#f0f921\"]]}],\"contourcarpet\":[{\"type\":\"contourcarpet\",\"colorbar\":{\"outlinewidth\":0,\"ticks\":\"\"}}],\"contour\":[{\"type\":\"contour\",\"colorbar\":{\"outlinewidth\":0,\"ticks\":\"\"},\"colorscale\":[[0.0,\"#0d0887\"],[0.1111111111111111,\"#46039f\"],[0.2222222222222222,\"#7201a8\"],[0.3333333333333333,\"#9c179e\"],[0.4444444444444444,\"#bd3786\"],[0.5555555555555556,\"#d8576b\"],[0.6666666666666666,\"#ed7953\"],[0.7777777777777778,\"#fb9f3a\"],[0.8888888888888888,\"#fdca26\"],[1.0,\"#f0f921\"]]}],\"surface\":[{\"type\":\"surface\",\"colorbar\":{\"outlinewidth\":0,\"ticks\":\"\"},\"colorscale\":[[0.0,\"#0d0887\"],[0.1111111111111111,\"#46039f\"],[0.2222222222222222,\"#7201a8\"],[0.3333333333333333,\"#9c179e\"],[0.4444444444444444,\"#bd3786\"],[0.5555555555555556,\"#d8576b\"],[0.6666666666666666,\"#ed7953\"],[0.7777777777777778,\"#fb9f3a\"],[0.8888888888888888,\"#fdca26\"],[1.0,\"#f0f921\"]]}],\"mesh3d\":[{\"type\":\"mesh3d\",\"colorbar\":{\"outlinewidth\":0,\"ticks\":\"\"}}],\"scatter\":[{\"fillpattern\":{\"fillmode\":\"overlay\",\"size\":10,\"solidity\":0.2},\"type\":\"scatter\"}],\"parcoords\":[{\"type\":\"parcoords\",\"line\":{\"colorbar\":{\"outlinewidth\":0,\"ticks\":\"\"}}}],\"scatterpolargl\":[{\"type\":\"scatterpolargl\",\"marker\":{\"colorbar\":{\"outlinewidth\":0,\"ticks\":\"\"}}}],\"bar\":[{\"error_x\":{\"color\":\"#2a3f5f\"},\"error_y\":{\"color\":\"#2a3f5f\"},\"marker\":{\"line\":{\"color\":\"#E5ECF6\",\"width\":0.5},\"pattern\":{\"fillmode\":\"overlay\",\"size\":10,\"solidity\":0.2}},\"type\":\"bar\"}],\"scattergeo\":[{\"type\":\"scattergeo\",\"marker\":{\"colorbar\":{\"outlinewidth\":0,\"ticks\":\"\"}}}],\"scatterpolar\":[{\"type\":\"scatterpolar\",\"marker\":{\"colorbar\":{\"outlinewidth\":0,\"ticks\":\"\"}}}],\"histogram\":[{\"marker\":{\"pattern\":{\"fillmode\":\"overlay\",\"size\":10,\"solidity\":0.2}},\"type\":\"histogram\"}],\"scattergl\":[{\"type\":\"scattergl\",\"marker\":{\"colorbar\":{\"outlinewidth\":0,\"ticks\":\"\"}}}],\"scatter3d\":[{\"type\":\"scatter3d\",\"line\":{\"colorbar\":{\"outlinewidth\":0,\"ticks\":\"\"}},\"marker\":{\"colorbar\":{\"outlinewidth\":0,\"ticks\":\"\"}}}],\"scattermapbox\":[{\"type\":\"scattermapbox\",\"marker\":{\"colorbar\":{\"outlinewidth\":0,\"ticks\":\"\"}}}],\"scatterternary\":[{\"type\":\"scatterternary\",\"marker\":{\"colorbar\":{\"outlinewidth\":0,\"ticks\":\"\"}}}],\"scattercarpet\":[{\"type\":\"scattercarpet\",\"marker\":{\"colorbar\":{\"outlinewidth\":0,\"ticks\":\"\"}}}],\"carpet\":[{\"aaxis\":{\"endlinecolor\":\"#2a3f5f\",\"gridcolor\":\"white\",\"linecolor\":\"white\",\"minorgridcolor\":\"white\",\"startlinecolor\":\"#2a3f5f\"},\"baxis\":{\"endlinecolor\":\"#2a3f5f\",\"gridcolor\":\"white\",\"linecolor\":\"white\",\"minorgridcolor\":\"white\",\"startlinecolor\":\"#2a3f5f\"},\"type\":\"carpet\"}],\"table\":[{\"cells\":{\"fill\":{\"color\":\"#EBF0F8\"},\"line\":{\"color\":\"white\"}},\"header\":{\"fill\":{\"color\":\"#C8D4E3\"},\"line\":{\"color\":\"white\"}},\"type\":\"table\"}],\"barpolar\":[{\"marker\":{\"line\":{\"color\":\"#E5ECF6\",\"width\":0.5},\"pattern\":{\"fillmode\":\"overlay\",\"size\":10,\"solidity\":0.2}},\"type\":\"barpolar\"}],\"pie\":[{\"automargin\":true,\"type\":\"pie\"}]},\"layout\":{\"autotypenumbers\":\"strict\",\"colorway\":[\"#636efa\",\"#EF553B\",\"#00cc96\",\"#ab63fa\",\"#FFA15A\",\"#19d3f3\",\"#FF6692\",\"#B6E880\",\"#FF97FF\",\"#FECB52\"],\"font\":{\"color\":\"#2a3f5f\"},\"hovermode\":\"closest\",\"hoverlabel\":{\"align\":\"left\"},\"paper_bgcolor\":\"white\",\"plot_bgcolor\":\"#E5ECF6\",\"polar\":{\"bgcolor\":\"#E5ECF6\",\"angularaxis\":{\"gridcolor\":\"white\",\"linecolor\":\"white\",\"ticks\":\"\"},\"radialaxis\":{\"gridcolor\":\"white\",\"linecolor\":\"white\",\"ticks\":\"\"}},\"ternary\":{\"bgcolor\":\"#E5ECF6\",\"aaxis\":{\"gridcolor\":\"white\",\"linecolor\":\"white\",\"ticks\":\"\"},\"baxis\":{\"gridcolor\":\"white\",\"linecolor\":\"white\",\"ticks\":\"\"},\"caxis\":{\"gridcolor\":\"white\",\"linecolor\":\"white\",\"ticks\":\"\"}},\"coloraxis\":{\"colorbar\":{\"outlinewidth\":0,\"ticks\":\"\"}},\"colorscale\":{\"sequential\":[[0.0,\"#0d0887\"],[0.1111111111111111,\"#46039f\"],[0.2222222222222222,\"#7201a8\"],[0.3333333333333333,\"#9c179e\"],[0.4444444444444444,\"#bd3786\"],[0.5555555555555556,\"#d8576b\"],[0.6666666666666666,\"#ed7953\"],[0.7777777777777778,\"#fb9f3a\"],[0.8888888888888888,\"#fdca26\"],[1.0,\"#f0f921\"]],\"sequentialminus\":[[0.0,\"#0d0887\"],[0.1111111111111111,\"#46039f\"],[0.2222222222222222,\"#7201a8\"],[0.3333333333333333,\"#9c179e\"],[0.4444444444444444,\"#bd3786\"],[0.5555555555555556,\"#d8576b\"],[0.6666666666666666,\"#ed7953\"],[0.7777777777777778,\"#fb9f3a\"],[0.8888888888888888,\"#fdca26\"],[1.0,\"#f0f921\"]],\"diverging\":[[0,\"#8e0152\"],[0.1,\"#c51b7d\"],[0.2,\"#de77ae\"],[0.3,\"#f1b6da\"],[0.4,\"#fde0ef\"],[0.5,\"#f7f7f7\"],[0.6,\"#e6f5d0\"],[0.7,\"#b8e186\"],[0.8,\"#7fbc41\"],[0.9,\"#4d9221\"],[1,\"#276419\"]]},\"xaxis\":{\"gridcolor\":\"white\",\"linecolor\":\"white\",\"ticks\":\"\",\"title\":{\"standoff\":15},\"zerolinecolor\":\"white\",\"automargin\":true,\"zerolinewidth\":2},\"yaxis\":{\"gridcolor\":\"white\",\"linecolor\":\"white\",\"ticks\":\"\",\"title\":{\"standoff\":15},\"zerolinecolor\":\"white\",\"automargin\":true,\"zerolinewidth\":2},\"scene\":{\"xaxis\":{\"backgroundcolor\":\"#E5ECF6\",\"gridcolor\":\"white\",\"linecolor\":\"white\",\"showbackground\":true,\"ticks\":\"\",\"zerolinecolor\":\"white\",\"gridwidth\":2},\"yaxis\":{\"backgroundcolor\":\"#E5ECF6\",\"gridcolor\":\"white\",\"linecolor\":\"white\",\"showbackground\":true,\"ticks\":\"\",\"zerolinecolor\":\"white\",\"gridwidth\":2},\"zaxis\":{\"backgroundcolor\":\"#E5ECF6\",\"gridcolor\":\"white\",\"linecolor\":\"white\",\"showbackground\":true,\"ticks\":\"\",\"zerolinecolor\":\"white\",\"gridwidth\":2}},\"shapedefaults\":{\"line\":{\"color\":\"#2a3f5f\"}},\"annotationdefaults\":{\"arrowcolor\":\"#2a3f5f\",\"arrowhead\":0,\"arrowwidth\":1},\"geo\":{\"bgcolor\":\"white\",\"landcolor\":\"#E5ECF6\",\"subunitcolor\":\"white\",\"showland\":true,\"showlakes\":true,\"lakecolor\":\"white\"},\"title\":{\"x\":0.05},\"mapbox\":{\"style\":\"light\"}}},\"title\":{\"text\":\"Interactive Pie Chart\"}},                        {\"responsive\": true}                    ).then(function(){\n",
       "                            \n",
       "var gd = document.getElementById('669a4577-43b4-40cf-bfe0-7f3b20e384c8');\n",
       "var x = new MutationObserver(function (mutations, observer) {{\n",
       "        var display = window.getComputedStyle(gd).display;\n",
       "        if (!display || display === 'none') {{\n",
       "            console.log([gd, 'removed!']);\n",
       "            Plotly.purge(gd);\n",
       "            observer.disconnect();\n",
       "        }}\n",
       "}});\n",
       "\n",
       "// Listen for the removal of the full notebook cells\n",
       "var notebookContainer = gd.closest('#notebook-container');\n",
       "if (notebookContainer) {{\n",
       "    x.observe(notebookContainer, {childList: true});\n",
       "}}\n",
       "\n",
       "// Listen for the clearing of the current output cell\n",
       "var outputEl = gd.closest('.output');\n",
       "if (outputEl) {{\n",
       "    x.observe(outputEl, {childList: true});\n",
       "}}\n",
       "\n",
       "                        })                };                });            </script>        </div>"
      ]
     },
     "metadata": {},
     "output_type": "display_data"
    }
   ],
   "source": [
    "import plotly.graph_objects as go\n",
    "import numpy as np\n",
    "\n",
    "# Step 1: Generate random data\n",
    "np.random.seed(0)  # For reproducibility\n",
    "labels = [f'Category {i}' for i in range(8)]  # 8 categories\n",
    "values = np.random.randint(5, 50, size=len(labels))  # Random values between 5 and 50\n",
    "\n",
    "# Step 2: Create the pie chart\n",
    "fig = go.Figure(data=[go.Pie(labels=labels, values=values, \n",
    "                             textinfo='label+percent',  # Display both label and percentage\n",
    "                             hole=0.3)])  # Adds a hole to make it a donut chart, optional\n",
    "\n",
    "# Step 3: Set the title\n",
    "fig.update_layout(\n",
    "    title='Interactive Pie Chart'\n",
    ")\n",
    "\n",
    "# Step 4: Show the plot\n",
    "fig.show()\n"
   ]
  },
  {
   "cell_type": "code",
   "execution_count": null,
   "id": "a121e027-baa1-4e62-8bdd-43491f616583",
   "metadata": {},
   "outputs": [],
   "source": []
  }
 ],
 "metadata": {
  "kernelspec": {
   "display_name": "Python 3 (ipykernel)",
   "language": "python",
   "name": "python3"
  },
  "language_info": {
   "codemirror_mode": {
    "name": "ipython",
    "version": 3
   },
   "file_extension": ".py",
   "mimetype": "text/x-python",
   "name": "python",
   "nbconvert_exporter": "python",
   "pygments_lexer": "ipython3",
   "version": "3.10.8"
  }
 },
 "nbformat": 4,
 "nbformat_minor": 5
}
